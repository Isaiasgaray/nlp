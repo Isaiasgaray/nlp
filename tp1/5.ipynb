{
 "cells": [
  {
   "cell_type": "code",
   "execution_count": 1,
   "id": "16951d73-b163-49ee-9590-c6e32bed6cbb",
   "metadata": {},
   "outputs": [],
   "source": [
    "import pandas as pd\n",
    "\n",
    "import spacy\n",
    "import numpy as np\n",
    "import matplotlib.pyplot as plt\n",
    "import seaborn as sns\n",
    "import networkx as nx\n",
    "from sklearn.metrics.pairwise import cosine_similarity"
   ]
  },
  {
   "cell_type": "code",
   "execution_count": 2,
   "id": "9f563782-1ebc-4956-a3c4-c5c8d06216c9",
   "metadata": {},
   "outputs": [],
   "source": [
    "df_capital = pd.read_csv('datasets/lacapital.csv')\n",
    "\n",
    "df_capital.dropna(inplace=True)"
   ]
  },
  {
   "cell_type": "markdown",
   "id": "955c1432-fdc8-4886-8411-7332074f4117",
   "metadata": {},
   "source": [
    "# Limpieza y normalización de texto "
   ]
  },
  {
   "cell_type": "code",
   "execution_count": 3,
   "id": "84b67fbb-31bd-4498-a20e-6916d4b162e1",
   "metadata": {},
   "outputs": [
    {
     "name": "stderr",
     "output_type": "stream",
     "text": [
      "[nltk_data] Downloading package stopwords to\n",
      "[nltk_data]     C:\\Users\\PC\\AppData\\Roaming\\nltk_data...\n",
      "[nltk_data]   Package stopwords is already up-to-date!\n",
      "[nltk_data] Downloading package punkt to\n",
      "[nltk_data]     C:\\Users\\PC\\AppData\\Roaming\\nltk_data...\n",
      "[nltk_data]   Package punkt is already up-to-date!\n"
     ]
    }
   ],
   "source": [
    "import unicodedata\n",
    "import nltk\n",
    "from nltk.corpus import stopwords\n",
    "from nltk.tokenize import word_tokenize\n",
    "\n",
    "nltk.download('stopwords')\n",
    "nltk.download('punkt')\n",
    "\n",
    "stop_words = set(stopwords.words('spanish'))\n",
    "\n",
    "def remove_accents(input_str):\n",
    "  nfkd_form = unicodedata.normalize('NFKD', input_str)\n",
    "  return ''.join([c for c in nfkd_form if not unicodedata.combining(c)])\n",
    "\n",
    "def remove_stopwords(text):\n",
    "  word_tokens = word_tokenize(text)\n",
    "  filtered_text = [word for word in word_tokens if word.casefold() not in stop_words]\n",
    "  return \" \".join(filtered_text)\n",
    "\n",
    "for col in df_capital.columns[:-2]:\n",
    "    df_capital[col] = df_capital[col].str.lower()\n",
    "    df_capital[col] = df_capital[col].str.replace('[^\\w\\s]', '', regex=True)\n",
    "    df_capital[col] = df_capital[col].apply(remove_stopwords)\n",
    "    df_capital[col] = df_capital[col].apply(remove_accents)"
   ]
  },
  {
   "cell_type": "code",
   "execution_count": 4,
   "id": "a363ee7c-9343-49a6-bd9b-1c494c8ae2df",
   "metadata": {},
   "outputs": [
    {
     "data": {
      "text/html": [
       "<div>\n",
       "<style scoped>\n",
       "    .dataframe tbody tr th:only-of-type {\n",
       "        vertical-align: middle;\n",
       "    }\n",
       "\n",
       "    .dataframe tbody tr th {\n",
       "        vertical-align: top;\n",
       "    }\n",
       "\n",
       "    .dataframe thead th {\n",
       "        text-align: right;\n",
       "    }\n",
       "</style>\n",
       "<table border=\"1\" class=\"dataframe\">\n",
       "  <thead>\n",
       "    <tr style=\"text-align: right;\">\n",
       "      <th></th>\n",
       "      <th>titulo</th>\n",
       "      <th>texto</th>\n",
       "      <th>categoria</th>\n",
       "      <th>url</th>\n",
       "      <th>fecha</th>\n",
       "    </tr>\n",
       "  </thead>\n",
       "  <tbody>\n",
       "    <tr>\n",
       "      <th>0</th>\n",
       "      <td>tiempo rosario sabado calor anticipo lluvias</td>\n",
       "      <td>servicio meteorologico nacional smn indico pro...</td>\n",
       "      <td>ciudad</td>\n",
       "      <td>https://www.lacapital.com.ar/la-ciudad/el-tiem...</td>\n",
       "      <td>2023-10-20T22:53:00</td>\n",
       "    </tr>\n",
       "    <tr>\n",
       "      <th>1</th>\n",
       "      <td>provincial debuta sabado liga argentina</td>\n",
       "      <td>provincial debutara sabado 22 salvador bonilla...</td>\n",
       "      <td>ovacion</td>\n",
       "      <td>https://www.lacapital.com.ar/ovacion/provincia...</td>\n",
       "      <td>2023-10-20T22:20:00</td>\n",
       "    </tr>\n",
       "    <tr>\n",
       "      <th>2</th>\n",
       "      <td>efecto sequia economia santa fe cayo 76</td>\n",
       "      <td>actividad economica santa fe cayo 76 julio acu...</td>\n",
       "      <td>economia</td>\n",
       "      <td>https://www.lacapital.com.ar/economia/por-efec...</td>\n",
       "      <td>2023-10-20T22:11:00</td>\n",
       "    </tr>\n",
       "    <tr>\n",
       "      <th>3</th>\n",
       "      <td>tensa tregua cambiaria semana preelectoral</td>\n",
       "      <td>refuerzo swap chino fuerzas seguridad mercado ...</td>\n",
       "      <td>economia</td>\n",
       "      <td>https://www.lacapital.com.ar/economia/tensa-tr...</td>\n",
       "      <td>2023-10-20T22:09:00</td>\n",
       "    </tr>\n",
       "    <tr>\n",
       "      <th>4</th>\n",
       "      <td>plaza juega salvacion top 12 urba</td>\n",
       "      <td>sabado finaliza fase regular top 12 jornada de...</td>\n",
       "      <td>ovacion</td>\n",
       "      <td>https://www.lacapital.com.ar/ovacion/plaza-jue...</td>\n",
       "      <td>2023-10-20T22:05:00</td>\n",
       "    </tr>\n",
       "    <tr>\n",
       "      <th>...</th>\n",
       "      <td>...</td>\n",
       "      <td>...</td>\n",
       "      <td>...</td>\n",
       "      <td>...</td>\n",
       "      <td>...</td>\n",
       "    </tr>\n",
       "    <tr>\n",
       "      <th>210</th>\n",
       "      <td>quedo preso femicida mato pareja pension barri...</td>\n",
       "      <td>julio alberto ramirez changarin mercado produc...</td>\n",
       "      <td>policiales</td>\n",
       "      <td>https://www.lacapital.com.ar/policiales/quedo-...</td>\n",
       "      <td>2023-10-21T17:30:00</td>\n",
       "    </tr>\n",
       "    <tr>\n",
       "      <th>211</th>\n",
       "      <td>atilra salio cruce sancor videos muestran cami...</td>\n",
       "      <td>comunicado difundido sabado consejo directivo ...</td>\n",
       "      <td>informacion general</td>\n",
       "      <td>https://www.lacapital.com.ar/informacion-gener...</td>\n",
       "      <td>2023-10-21T17:23:00</td>\n",
       "    </tr>\n",
       "    <tr>\n",
       "      <th>212</th>\n",
       "      <td>confirman asesinato noveno argentino manos ham...</td>\n",
       "      <td>argentina sumo novena victima fatal menos grup...</td>\n",
       "      <td>mundo</td>\n",
       "      <td>https://www.lacapital.com.ar/el-mundo/confirma...</td>\n",
       "      <td>2023-10-21T17:16:00</td>\n",
       "    </tr>\n",
       "    <tr>\n",
       "      <th>213</th>\n",
       "      <td>juegos panamericanos pacheco remo metio final</td>\n",
       "      <td>jornada sabatina bien tempranito rosarino igna...</td>\n",
       "      <td>ovacion</td>\n",
       "      <td>https://www.lacapital.com.ar/ovacion/juegos-pa...</td>\n",
       "      <td>2023-10-21T16:33:00</td>\n",
       "    </tr>\n",
       "    <tr>\n",
       "      <th>214</th>\n",
       "      <td>hallaron hombre golpeado muerto dentro casa fi...</td>\n",
       "      <td>florencio ambrossi vecinos conocian familia ha...</td>\n",
       "      <td>policiales</td>\n",
       "      <td>https://www.lacapital.com.ar/policiales/hallar...</td>\n",
       "      <td>2023-10-21T16:32:00</td>\n",
       "    </tr>\n",
       "  </tbody>\n",
       "</table>\n",
       "<p>212 rows × 5 columns</p>\n",
       "</div>"
      ],
      "text/plain": [
       "                                                titulo  \\\n",
       "0         tiempo rosario sabado calor anticipo lluvias   \n",
       "1              provincial debuta sabado liga argentina   \n",
       "2              efecto sequia economia santa fe cayo 76   \n",
       "3           tensa tregua cambiaria semana preelectoral   \n",
       "4                    plaza juega salvacion top 12 urba   \n",
       "..                                                 ...   \n",
       "210  quedo preso femicida mato pareja pension barri...   \n",
       "211  atilra salio cruce sancor videos muestran cami...   \n",
       "212  confirman asesinato noveno argentino manos ham...   \n",
       "213      juegos panamericanos pacheco remo metio final   \n",
       "214  hallaron hombre golpeado muerto dentro casa fi...   \n",
       "\n",
       "                                                 texto            categoria  \\\n",
       "0    servicio meteorologico nacional smn indico pro...               ciudad   \n",
       "1    provincial debutara sabado 22 salvador bonilla...              ovacion   \n",
       "2    actividad economica santa fe cayo 76 julio acu...             economia   \n",
       "3    refuerzo swap chino fuerzas seguridad mercado ...             economia   \n",
       "4    sabado finaliza fase regular top 12 jornada de...              ovacion   \n",
       "..                                                 ...                  ...   \n",
       "210  julio alberto ramirez changarin mercado produc...           policiales   \n",
       "211  comunicado difundido sabado consejo directivo ...  informacion general   \n",
       "212  argentina sumo novena victima fatal menos grup...                mundo   \n",
       "213  jornada sabatina bien tempranito rosarino igna...              ovacion   \n",
       "214  florencio ambrossi vecinos conocian familia ha...           policiales   \n",
       "\n",
       "                                                   url                fecha  \n",
       "0    https://www.lacapital.com.ar/la-ciudad/el-tiem...  2023-10-20T22:53:00  \n",
       "1    https://www.lacapital.com.ar/ovacion/provincia...  2023-10-20T22:20:00  \n",
       "2    https://www.lacapital.com.ar/economia/por-efec...  2023-10-20T22:11:00  \n",
       "3    https://www.lacapital.com.ar/economia/tensa-tr...  2023-10-20T22:09:00  \n",
       "4    https://www.lacapital.com.ar/ovacion/plaza-jue...  2023-10-20T22:05:00  \n",
       "..                                                 ...                  ...  \n",
       "210  https://www.lacapital.com.ar/policiales/quedo-...  2023-10-21T17:30:00  \n",
       "211  https://www.lacapital.com.ar/informacion-gener...  2023-10-21T17:23:00  \n",
       "212  https://www.lacapital.com.ar/el-mundo/confirma...  2023-10-21T17:16:00  \n",
       "213  https://www.lacapital.com.ar/ovacion/juegos-pa...  2023-10-21T16:33:00  \n",
       "214  https://www.lacapital.com.ar/policiales/hallar...  2023-10-21T16:32:00  \n",
       "\n",
       "[212 rows x 5 columns]"
      ]
     },
     "execution_count": 4,
     "metadata": {},
     "output_type": "execute_result"
    }
   ],
   "source": [
    "df_capital"
   ]
  },
  {
   "cell_type": "markdown",
   "id": "ec015b8d-62d9-432b-9fb3-0c18d8474a1a",
   "metadata": {
    "tags": []
   },
   "source": [
    "# Ejercicio 2"
   ]
  },
  {
   "cell_type": "code",
   "execution_count": 5,
   "id": "a1ad6755-6f5e-46a0-9aee-7e21e67a19be",
   "metadata": {},
   "outputs": [
    {
     "data": {
      "text/plain": [
       "categoria\n",
       "ovacion                46\n",
       "politica               34\n",
       "ciudad                 25\n",
       "zoom                   21\n",
       "policiales             19\n",
       "region                 16\n",
       "informacion general    13\n",
       "economia               11\n",
       "mundial rugby 2023      8\n",
       "mundo                   5\n",
       "educacion               4\n",
       "turismo                 4\n",
       "negocios                2\n",
       "colon                   1\n",
       "julian montoya          1\n",
       "baby etchecopar         1\n",
       "opinion                 1\n",
       "Name: count, dtype: int64"
      ]
     },
     "execution_count": 5,
     "metadata": {},
     "output_type": "execute_result"
    }
   ],
   "source": [
    "df_capital['categoria'].value_counts()"
   ]
  },
  {
   "cell_type": "code",
   "execution_count": 6,
   "id": "1d7364b6-bd5f-4f82-a021-135a203134ca",
   "metadata": {},
   "outputs": [],
   "source": [
    "categorias = df_capital['categoria'].value_counts()\n",
    "categorias = categorias[categorias >= 10].index[:4]"
   ]
  },
  {
   "cell_type": "code",
   "execution_count": 7,
   "id": "5311daef-bb5f-49b3-a7e9-6d9b95906801",
   "metadata": {},
   "outputs": [],
   "source": [
    "categorias_df = list()\n",
    "\n",
    "for categoria in categorias:\n",
    "    temp_df = df_capital[df_capital['categoria'] == categoria]\n",
    "    categorias_df.append(temp_df.sample(10, random_state=1))"
   ]
  },
  {
   "cell_type": "code",
   "execution_count": 8,
   "id": "fe5b83ff-02f3-4e14-947b-02639f431386",
   "metadata": {},
   "outputs": [],
   "source": [
    "x = list()\n",
    "y = list()\n",
    "z = list()\n",
    "\n",
    "for df in categorias_df:\n",
    "    x += df['titulo'].tolist()\n",
    "    y += df['categoria'].tolist()\n",
    "    z += df['texto'].tolist() #ACA"
   ]
  },
  {
   "cell_type": "code",
   "execution_count": 9,
   "id": "ebf6a078-ab6e-46ec-bd0a-a5d7cf8e1122",
   "metadata": {},
   "outputs": [],
   "source": [
    "from sklearn.model_selection import train_test_split\n",
    "from sklearn.linear_model import LogisticRegression\n",
    "from sklearn.feature_extraction.text import TfidfVectorizer\n",
    "from sklearn.metrics import accuracy_score, classification_report"
   ]
  },
  {
   "cell_type": "code",
   "execution_count": 10,
   "id": "bbff3422-f65b-49ca-8c53-d08a729dc82f",
   "metadata": {},
   "outputs": [],
   "source": [
    "x_train, x_test, y_train, y_test = \\\n",
    "    train_test_split(x, y, test_size=0.2, random_state=1)"
   ]
  },
  {
   "cell_type": "code",
   "execution_count": 11,
   "id": "67ab1e39-1920-4b19-819e-8e5ce81b558e",
   "metadata": {},
   "outputs": [
    {
     "data": {
      "text/html": [
       "<style>#sk-container-id-1 {color: black;}#sk-container-id-1 pre{padding: 0;}#sk-container-id-1 div.sk-toggleable {background-color: white;}#sk-container-id-1 label.sk-toggleable__label {cursor: pointer;display: block;width: 100%;margin-bottom: 0;padding: 0.3em;box-sizing: border-box;text-align: center;}#sk-container-id-1 label.sk-toggleable__label-arrow:before {content: \"▸\";float: left;margin-right: 0.25em;color: #696969;}#sk-container-id-1 label.sk-toggleable__label-arrow:hover:before {color: black;}#sk-container-id-1 div.sk-estimator:hover label.sk-toggleable__label-arrow:before {color: black;}#sk-container-id-1 div.sk-toggleable__content {max-height: 0;max-width: 0;overflow: hidden;text-align: left;background-color: #f0f8ff;}#sk-container-id-1 div.sk-toggleable__content pre {margin: 0.2em;color: black;border-radius: 0.25em;background-color: #f0f8ff;}#sk-container-id-1 input.sk-toggleable__control:checked~div.sk-toggleable__content {max-height: 200px;max-width: 100%;overflow: auto;}#sk-container-id-1 input.sk-toggleable__control:checked~label.sk-toggleable__label-arrow:before {content: \"▾\";}#sk-container-id-1 div.sk-estimator input.sk-toggleable__control:checked~label.sk-toggleable__label {background-color: #d4ebff;}#sk-container-id-1 div.sk-label input.sk-toggleable__control:checked~label.sk-toggleable__label {background-color: #d4ebff;}#sk-container-id-1 input.sk-hidden--visually {border: 0;clip: rect(1px 1px 1px 1px);clip: rect(1px, 1px, 1px, 1px);height: 1px;margin: -1px;overflow: hidden;padding: 0;position: absolute;width: 1px;}#sk-container-id-1 div.sk-estimator {font-family: monospace;background-color: #f0f8ff;border: 1px dotted black;border-radius: 0.25em;box-sizing: border-box;margin-bottom: 0.5em;}#sk-container-id-1 div.sk-estimator:hover {background-color: #d4ebff;}#sk-container-id-1 div.sk-parallel-item::after {content: \"\";width: 100%;border-bottom: 1px solid gray;flex-grow: 1;}#sk-container-id-1 div.sk-label:hover label.sk-toggleable__label {background-color: #d4ebff;}#sk-container-id-1 div.sk-serial::before {content: \"\";position: absolute;border-left: 1px solid gray;box-sizing: border-box;top: 0;bottom: 0;left: 50%;z-index: 0;}#sk-container-id-1 div.sk-serial {display: flex;flex-direction: column;align-items: center;background-color: white;padding-right: 0.2em;padding-left: 0.2em;position: relative;}#sk-container-id-1 div.sk-item {position: relative;z-index: 1;}#sk-container-id-1 div.sk-parallel {display: flex;align-items: stretch;justify-content: center;background-color: white;position: relative;}#sk-container-id-1 div.sk-item::before, #sk-container-id-1 div.sk-parallel-item::before {content: \"\";position: absolute;border-left: 1px solid gray;box-sizing: border-box;top: 0;bottom: 0;left: 50%;z-index: -1;}#sk-container-id-1 div.sk-parallel-item {display: flex;flex-direction: column;z-index: 1;position: relative;background-color: white;}#sk-container-id-1 div.sk-parallel-item:first-child::after {align-self: flex-end;width: 50%;}#sk-container-id-1 div.sk-parallel-item:last-child::after {align-self: flex-start;width: 50%;}#sk-container-id-1 div.sk-parallel-item:only-child::after {width: 0;}#sk-container-id-1 div.sk-dashed-wrapped {border: 1px dashed gray;margin: 0 0.4em 0.5em 0.4em;box-sizing: border-box;padding-bottom: 0.4em;background-color: white;}#sk-container-id-1 div.sk-label label {font-family: monospace;font-weight: bold;display: inline-block;line-height: 1.2em;}#sk-container-id-1 div.sk-label-container {text-align: center;}#sk-container-id-1 div.sk-container {/* jupyter's `normalize.less` sets `[hidden] { display: none; }` but bootstrap.min.css set `[hidden] { display: none !important; }` so we also need the `!important` here to be able to override the default hidden behavior on the sphinx rendered scikit-learn.org. See: https://github.com/scikit-learn/scikit-learn/issues/21755 */display: inline-block !important;position: relative;}#sk-container-id-1 div.sk-text-repr-fallback {display: none;}</style><div id=\"sk-container-id-1\" class=\"sk-top-container\"><div class=\"sk-text-repr-fallback\"><pre>LogisticRegression(max_iter=1000)</pre><b>In a Jupyter environment, please rerun this cell to show the HTML representation or trust the notebook. <br />On GitHub, the HTML representation is unable to render, please try loading this page with nbviewer.org.</b></div><div class=\"sk-container\" hidden><div class=\"sk-item\"><div class=\"sk-estimator sk-toggleable\"><input class=\"sk-toggleable__control sk-hidden--visually\" id=\"sk-estimator-id-1\" type=\"checkbox\" checked><label for=\"sk-estimator-id-1\" class=\"sk-toggleable__label sk-toggleable__label-arrow\">LogisticRegression</label><div class=\"sk-toggleable__content\"><pre>LogisticRegression(max_iter=1000)</pre></div></div></div></div></div>"
      ],
      "text/plain": [
       "LogisticRegression(max_iter=1000)"
      ]
     },
     "execution_count": 11,
     "metadata": {},
     "output_type": "execute_result"
    }
   ],
   "source": [
    "vectorizer = TfidfVectorizer()\n",
    "x_train_vectorized = vectorizer.fit_transform(x_train)\n",
    "x_test_vectorized = vectorizer.transform(x_test)\n",
    "\n",
    "modelo_LR = LogisticRegression(max_iter=1000)\n",
    "modelo_LR.fit(x_train_vectorized, y_train)"
   ]
  },
  {
   "cell_type": "code",
   "execution_count": 12,
   "id": "b25b018d-9f47-4f87-bb80-84edd91782f9",
   "metadata": {},
   "outputs": [],
   "source": [
    "y_pred_LR = modelo_LR.predict(x_test_vectorized)\n",
    "acc_LR = accuracy_score(y_test, y_pred_LR)\n",
    "report_LR = classification_report(y_test, y_pred_LR, zero_division=1)"
   ]
  },
  {
   "cell_type": "code",
   "execution_count": 13,
   "id": "465681dd-97bd-4195-aed2-955801001091",
   "metadata": {},
   "outputs": [
    {
     "name": "stdout",
     "output_type": "stream",
     "text": [
      "Precisión Regresión Logística: 0.625\n",
      "Reporte de clasificación Regresión Logística:\n",
      "               precision    recall  f1-score   support\n",
      "\n",
      "      ciudad       1.00      0.50      0.67         4\n",
      "     ovacion       1.00      0.50      0.67         2\n",
      "    politica       0.00      1.00      0.00         0\n",
      "        zoom       1.00      1.00      1.00         2\n",
      "\n",
      "    accuracy                           0.62         8\n",
      "   macro avg       0.75      0.75      0.58         8\n",
      "weighted avg       1.00      0.62      0.75         8\n",
      "\n"
     ]
    }
   ],
   "source": [
    "print(\"Precisión Regresión Logística:\", acc_LR)\n",
    "print(\"Reporte de clasificación Regresión Logística:\\n\", report_LR)"
   ]
  },
  {
   "cell_type": "code",
   "execution_count": 14,
   "id": "16e93b9a-8586-4e58-a1eb-0270a9b26059",
   "metadata": {},
   "outputs": [
    {
     "name": "stdout",
     "output_type": "stream",
     "text": [
      "['politica' 'ovacion' 'politica' 'zoom']\n"
     ]
    }
   ],
   "source": [
    "print(modelo_LR.predict(vectorizer.transform([\"en pesos\", \"pesos de los pumas\",\n",
    "                                              \"pesos de los pumas con milei\",\n",
    "                                              \"pesos de los pumas con milei en un show de cine\"])))"
   ]
  },
  {
   "cell_type": "markdown",
   "id": "3d510626-dec2-4508-8df3-f019037fa096",
   "metadata": {},
   "source": [
    "# Ejercicio 3"
   ]
  },
  {
   "cell_type": "markdown",
   "id": "6ae10550-741b-4e16-aaab-5737d91c667d",
   "metadata": {},
   "source": [
    "# Ejercicio 4"
   ]
  },
  {
   "cell_type": "markdown",
   "id": "19b266f1",
   "metadata": {},
   "source": [
    "# Ejercicio 5\n"
   ]
  },
  {
   "cell_type": "code",
   "execution_count": 23,
   "id": "fde54698",
   "metadata": {},
   "outputs": [],
   "source": [
    "#x = titulo\n",
    "#Y = categoria \n",
    "#Z = texto\n",
    "combinado = {}\n",
    "for categoria, texto in zip(y, z):\n",
    "    if categoria in combinado:\n",
    "        combinado[categoria].append(texto)\n",
    "    else:\n",
    "        combinado[categoria] = [texto]\n",
    "\n",
    "print(combinado[\"ciudad\"][3])"
   ]
  },
  {
   "cell_type": "code",
   "execution_count": null,
   "id": "3caa90d7",
   "metadata": {},
   "outputs": [],
   "source": [
    "# Menu interactivo\n",
    "def get_resumenes():\n",
    "    while True:\n",
    "        valor = input(\"Seleccionar categoria (ovacion, politica, ciudad, zoom)\")\n",
    "        if valor not in y:\n",
    "            return (\"Error\")\n",
    "        \n",
    "get_resumenes()\n",
    "        "
   ]
  },
  {
   "cell_type": "code",
   "execution_count": 25,
   "id": "b091547a",
   "metadata": {},
   "outputs": [
    {
     "name": "stdout",
     "output_type": "stream",
     "text": [
      "[candidato presidencial libertad avanza lla javier milei cerro miercoles campana electoral nutrido acto estadio movistar arena barrio porteno villa crespo afirmo elecciones domingo importantes historia posible ganar primera vuelta posiblemente pasado desierto 40 anos llegar libertad exclamo milei discurso pronuncio auditorio colmado destaco elecciones importantes ultimos 107 anos senalo esperanza solo posible si futuro liberal ademas critico sectores calificaban libertarismo fenomeno barrial remarco contrario fenomeno nivel mundial recordo incursion politica busca enfrentar colectivistas ganarles luego critico sistema economico enfatizo modelo lleva convertirnos villa misera grande mundo necesario punto inflexion milei hablo reformas economicas pretende hacer caso ser presidente afirmo consiste propiedad privada mercados libres intervencion libre competencia solo sirve ser exitoso servir projimo hoy frente misma disyuntiva podemos continuar camino seguro lleva ser pobre seguir camino libertad llevo ser potencia mundial alerto luego critico alianza opositora juntos cambio jxc acuso seguros cambiar anadio sabemos aun quieren usar rotulo cambio seguros cambiar solo hacen formas misma linea aclaro quiero poder sino quiero poder darselo ustedes luego pidio militancia fiscalizar proximo domingo redoblar esfuerzos fiscalizar comicios probable si votan podemos ganar primera vuelta entusiasmo luego hizo retrospectiva campana diputado nacional 2021 afirmo impresionante pensar donde hace dos anos logro enorme hecho parte si argentinos bien metiamos politicos iban seguir cagandonos vida critico candidato jefe gobierno porteno union patria uxp leandro santoro tildo personaje nefasto santoro empezo pedir dieran espacio medios liberales ahi di cuenta liberales debiamos presentarnos dar batalla planteo milei ultimo remarco si ustedes creen injusto sistema si quieren cambiar realidad vivimos ustedes pedimos acompanen voto previa acto economista alberto benegas lynch principales asesores milei advirtio necesario romper relaciones diplomaticas vaticano creo iniciar hizo julio argentino roca suspender relaciones diplomaticas vaticano mientras cabeza vaticano prime espiritu totalitario opino milei ingreso 22 estadio movistar arena rodeado militantes ritmo panic show renga escenario candidata vicepresidenta victoria villarruel postulante jefe gobierno ramiro marra candidata gobernadora bonaerense carolina piparo hermana karina milei polemica candidata diputada lilia lemoine economista desplazo escenario moviendo desenfrenadamente brazos mientras publico cantaba casta miedo vez milei arengo publico cantara ponga huevo liberal domingo cueste cueste domingo ganar auditorio sumo grito vayan cancion popular estallidos sociales 2001 hizo mencion especial conrado caputo politico hijo santiago caputo asesor milei primo nicolas caputo amigo personal expresidente mauricio macri, gobernador omar perotti asistio sufragar domingo escuela primaria no 476 juan bautista alberdi localidad rafaela respecto mandatario destaco llegada lluvia varias regiones provincia sostuvo esperada lluvia hace tantos dias esperamos podia haber demorado poquito asi gente puede llegar votar esperemos pueda transcurrir mejor manera aun dificultades generan precipitaciones perotti anhelo camino federalismo mayor sensatez toda dirigencia medidas acuerdos politicos solidos necesitan sacar argentina adelante 40 anos democracia creo exponen virtudes falencias anos enfrentar deudas 40 anos requiere grandeza politica mucha capacidad acordar trabajar codo codo distintas fuerzas politicas argentina creo podido ver argentina aca soluciones fondo creo planteos obviamente comparte viene futuro necesidad hacer frente desafios economicos delante poder controlar inflacion requiere acuerdo politico veo realmente capacidades acuerdo politico todas figuras remarco gobernador continuo argentina debe tener realmente proximos tiempos propuesta federal propuesta definitivamente brinde apoyo trabaja invierte produce consolidar politica exportadora agresiva quitandole todas barreras sectores potencialidad exportar traer divisas argentina fundamental desea pueda afirmandose proximos dias argentina ultimo omar perotti pidio sensatez comun deberia imperar manana cuidar argentinos creo firmemente pasos deben darse proximos dias argentinos argentinas pais distintos momentos inestabilidades moneda cambio inestabilidades generadas procesos inflacionarios creo muchas veces momentos aumentados magnitud veces reales cada momentos superando optimista viene argentina dudas viene mano trabajo viene mano esfuerzo viene mano poder conseguir productos trabajo gente pueda llegar mundo manera sencilla facil magica trabajo finalizo mandatario provincial, muchas especulaciones cierne torno si eleccion categoria presidente define primera vuelta si contrario necesidad llegar balotaje conocer nombre futuro presidente pais encuestas suelen ser caracter orientativo tampoco aportan respecto ahora encuesta aproximada primarias abiertas simultaneas obligatorias paso agosto ningun candidato llego numero necesario ganar primera vuelta suceder ganen primera vuelta cualquiera cinco formulas presidenciales superaron piso 15 votos paso agosto debera conseguir elecciones generales domingo 45 votos bien 40 sufragios diferencia 10 puntos respecto binomio ubique segundo lugar sergio massa agustin rossi union patria patricia bullrich luis petri juntos cambio javier milei victoria villarruel libertad avanza lla juan schiaretti florencio randazzo hacemos pais myriam bregman nicolas cano frente izquierda trabajadoresunidad fitu candidatos pugna sistema electoral rige pais modificado ultima vez reforma constitucional 1994 impuso comicios presidenciales incluyan posibilidad segunda vuelta balotaje caso ninguna formula alcance guarismos celebrara segunda vuelta constitucion ordena realizar dentro 30 dias posteriores eleccion general quedo establecida 19 noviembre segun cronograma dispuesto camara nacional electoral cne caso realizaria nuevo debate presidencial dos candidatos compitan segunda vuelta previsto domingo 12 facultad derecho universidad buenos aires uba realizo ultimo pasado domingo 8 octubre si bien sistema doble vuelta quedo habilitado presidenciales 1995 primera vez pudo haber sido utilizado 2003 carlos menem consiguio 2445 votos nestor kirchner 2225 ex presidente riojano declino participar balotaje permitio llegada santacruceno casa rosada recien 2015 sistema finalmente estrenado mauricio macri quedado segundo general 3415 votos tras 3708 daniel scioli impuso segunda vuelta 5134, santafesinos domingo jueces comicios generales inciertos regreso democracia argentina casi 40 anos atras jornada indefectiblemente irrumpira nuevo ciclo historico superador cualquier resultado par enfrentar inedito escenario tres tercios posibilidades desembocar balotaje eleccion presidente vice deberan renovar parlasur definir quienes ocuparan diez bancas provincia diputados nacion altas chances segunda vuelta presidencial prevista 19 noviembre proximo aunque descartar definicion inmediata alimentadas continuidad paso agosto escasa diferencia tres principales candidatos casa rosada lapso gran parte sociedad argentina siguio sintiendose escuchada ahora encara votacion decisiva surcada cansancio falta certezas abonada mercados elevaron maximo nivel nerviosismo campana si bien contemplo dos debates obligatorios cinco aspirantes aposto exclusivamente reforzar sufragios seguros puso juego valores democraticos recuperados tras dictadura civico militar sergio massa union patria up pese portar pesada mochila oficialista confia entrar balotaje polarizar ultraderecha patricia bullrich juntos cambio jxc forzada recalcular propuesta antikirchnerismo capitalizada mayor medida rival transita misma vereda santa fe clave chances presidenciales ubicaron tope agenda prioridades cambio javier milei libertad avanza lla luego victoria paso permitio saltar grieta regreso bota activo modo cuidar ganado instalar idea triunfo primera vuelta viable pese multiples pronunciamientos espacio lidera disparados filo comicios parecieron apostar contrario javier milei libertad avanza trata decima eleccion presidencial 1983 baja cantidad postulantes cinco dado piso 15 ciento votos debieron cosechar primarias curiosamente paso mayor numero precandidatos 27 si bien espera aumento participacion ciudadana menos cinco puntos respecto 69 ciento urnas 13 agosto ocurrio generales nacionales 2021 2019 inedito contexto podria acicatear mayor concurrencia edad votantes decidan participar constituira factor determinante resultado final sergio massa union patria oferta electoral refleja binomios presidenciales mileivictoria villarruel lla massaagustin rossi up bullrichluis petri jxc juan schiarettiflorencio randazzo hacemos pais hnp myriam bregmannicolas cano frente izquierdaunidad fitu schiaretti procurara mejorar significativamente porcentaje alcanzado primarias quedo cuarto mientras izquierda tratara tonificar rol legislativo atenta definicion politica caso balotaje escena si elecciones destinadas definir quienes sucesores alberto fernandez cristina kirchner ninguno candidatos consigue porcentaje definido constitucion segunda vuelta balotaje dara caso ningun aspirante presidencial obtenga 45 ciento votos afirmativos validamente emitidos si ningun candidato cosecha 40 sufragios validos diferencia menos diez puntos segundo patricia bullrich juntos cambio todas contiendas nacionales utilizara formato boleta papel cada elector recibira mano autoridad mesa ira cuarto oscuro luego ingresara papeleta cargo depositara finalmente unica urna paralelamente renovacion legislativa 130 257 bancas camara diputados 24 72 poltronas senado congreso nacional redisenara mapa politico escenario clave gobernabilidad futura administracion juan schiaretti hacemos pais definira composicion parlasur parlamento mercosur oportunidad argentina elegira 19 representantes lista nacional cuyos votos suman distrito unico 24 cada provincias ciudad autonoma buenos aires caba vez provincias buenos aires rios catamarca capital federal caba realizaran elecciones gobernador parlamentarios locales autoridades municipales paralelo comicios nacionales myriam bregman frente izquierdaunidad territorio santafesino 2816203 personas habilitadas votar representa 796 ciento padron nacional totaliza 35394425 electores rigor menos 2818280 santafesinos votaron paso agosto cifra actual surge restar nomina personas murieron cita urnas agregar nuevas incorporaciones modos tercera provincia cantidad electores luego buenos aires cordoba frente pronostico lluvias tormentas gran parte pais especificamente santa fe podrian complicar traslado personas hacia establecimientos votacion secretaria nacional electoral dispuso plan alternativo cuarto oscuro lugares autoridades bajo techo vez casi 436 mil argentinos residentes exterior podran votar casos ucrania israel gobierno nacional suspendio acto eleccionario debido situacion imperante afecta accede toda informacion elecciones httpstcodd236gy8mweleccionesargentinamarcosschiavi pictwittercom5rkpj7roko parte direccion nacional electoral dine estimo primeros resultados comicios saldran luz despues 22 partir momento iran apareciendo respuestas gran interrogante si nuevo presidente conocera domingo si estirar expectativa noviembre, frente pronostico lluvias tormentas gran parte pais especificamente santa fe alerta naranja domingo podrian complicar traslado personas hacia establecimientos votacion secretaria nacional electoral dispuso plan alternativo cuarto oscuro lugares autoridades bajo techo magdalena gutierrez delegada provincia dependencia nacional preciso lugares entregaron boxes autoridades puedan dentro cuarto oscuro biombo separa lugar boletas segun plan disenado secretaria compartiran mismo espacio fisico aulas escuelas suficiente division eleccion desarrolle total transparencia lluvias pueden afectar proceso si dan temprano intensidad llegada autoridades genera alguna demora expectantes depende dijo gutierrez relacion proyecciones oficiales servicio meteorologico nacional smn, cerca 820 manana sono timbre recreo escuela juan arzeno ovidio lagos 1000 anunciar inicio jornada electoral igual varias escuelas fuerte tormenta madrugada genero demoras conformacion mesas complicado acceso escuelas sumado falta luz sectores provoco retrasos hora comienzo votacion asi pais va urnas domingo comicios trascendentales restauracion democratica octubre 1983 tres postulantes javier milei sergio massa patricia bullrich libran lucha pareja pronostico cerrado 35 millones argentinos podran elegir hoy nuevo gobierno compulsa cinco candidatos presidenciales antecedente escenario paridad primeros tres candidatos registrado paso clima expectativa alrededor si necesario balotaje definir proximo jefe votacion definira quienes sucesores alberto fernandez cristina fernandez kirchner atencion puesta cuanto respaldo urnas lograran sergio massa uxp javier milei lla patricia bullrich jxc myriam bregman frente izquierda trabajadoresunidad fitu juan schiaretti hacemos pais hpnp acuerdo cuales resultados argentina podria elegir proximo presidente segunda vuelta programada 19 noviembre asi establece ley electoral caso domingo ningun postulante alcance 45 votos posibilidad candidato votado supere 40 puntos logre 10 diferencia salio segundo si asi trataria segunda vez historia pais mandatario resulta electo segunda vuelta solo ocurrio 2015 mauricio macri termino imponiendose daniel scioli primarias abiertas simultaneas obligatorias paso agosto ultimo milei obtuvo 298 sufragios bullrich sumo 28 suma votos contrincante interna horacio rodriguez larreta massa alcanzo 272 apoyos recibidos juan grabois lejos posicionaron dos fuerzas superaron piso 15 necesario competir generales schiaretti logro 371 puntos bregman quedo 261 ademas presidente vicepresidente eligen hoy 130 diputados nacionales 24 senadores nacionales ocho provincias 19 parlamentarios mercosur distrito nacional 24 parlamentarios mercosur distrito regional santa fe renovara diez bancas sucede cada dos anos electorado debera votar renovar mitad camara diputados 130 bancas tercio senado oportunidad 24 bancas representan buenos aires formosa jujuy rioja misiones san juan san luis santa cruz, ministro economia candidato presidencial union patria uxp sergio massa afirmo hoy dia obliga trabajar pensando consolidacion 40 anos democracia luego emitir voto escuela no 34 antartida argentina localidad bonaerense tigre aspirante uxp casa rosada llego escuela acompanado esposa malena galmarini hijo tomas toto massa junto momento votacion luego sufragar massa dirigio cancha futbol ubicada predio escuela preparado escenario brindar conferencia prensa marco massa agradecio fuerzas seguridad fuerzas armadas colaborando operativo electoral fiscales todas fuerzas politicas pais registrado alguna demora inicio proceso votacion dos provincias vemos tramite absoluta normalidad argentina vive dia importante argentinos 4 5 minutos entrada cuarto oscuro representan definicion futuro proximos cuatro anos argentina remarco massa manera ministro destaco hoy dia obliga trabajar pensando consolidacion 40 anos democracia obliga concurrir votar pensando futuro argentina esperanza asimismo sostuvo enorme tarea 10 diciembre gobierne gobierne resolver sinnumero problemas argentina destaco desafio distintas fuerzas politicas hora presentar propuesta debemos recorrer massa pondero participacion electoral mediodia alcanzaba 30 aseguro demuestra vocacion democratica pueblo argentino pone ademas frente desafio termine jornada argentinos salgamos unidos abrazados esperanza recorrer viene solucion problemas afirmo candidato presidencial largo dia va ir consolidando participacion bueno alguna manera despues 40 anos democracia permite argentinos argentinas seguir consolidando sistema agrego vez massa confirmo partir 18 presente bunker union patria ubicado barrio porteno chacarita, candidata presidencial frente izquierda trabajadoresunidad fitu myriam bregman afirmo hoy salida crisis ajuste ataque pueblo trabajador emitir voto alrededor 840 colegio don bosco barrio porteno congreso importante hoy voten segun convicciones hacer caso campanas salvadores individuales votar miedo digo candidata sostuvo balotaje veces quieren hacer creer dos candidatos hoy momento votar convicciones sino pone elecciones embudo nunca podes salir bregman destaco satisfaccion debates demuestra instancias equidad candidatos podemos contraponer ideas izquierda decir bien recibida bregman sostuvo marco debates espacio puso valor problemas ambientales hablamos jubilaciones salarios mujeres docencia pidio reflexionar como campanas electorales campanas politicas posibilidades expresar propuestas tiempo asevero pibes pibas buena recepcion ultimos dias candidata izquierda insistio ademas jornada hoy votar valores peleas da dias izquierda demostrado siempre largo anos lado, presidente alberto fernandez afirmo hoy 40 anos democracia argentinos decidiendo futuro emitir voto sede universidad catolica argentina uca barrio porteno puerto madero consultado como vida despues 10 diciembre dijo continuara ciudadano aunque evito responder si retirara politica partidaria seguido cerca toda campana hecho necesario proceso desarrolle paz tranquilidad cada pueda expresarse decir quiso decir despues resto dice democracia resuelva pueblo agrego fernandez votacion hoy definira quienes sucesores alberto fernandez cristina fernandez kirchner atencion puesta cuanto respaldo urnas lograran javier milei lla sergio massa uxp patricia bullrich jxc myriam bregman frente izquierda trabajadoresunidad fitu juan schiaretti hacemos pais hpnp, rios catamarca ciudad autonoma buenos aires caba elegiran domingo proximos gobernantes cargos legislativos ejecutivos coincidencia comicios presidenciales gobernacion rios decidira eleccion 1143459 personas podran votar principales candidatos peronista adan bahl ex ministro interior rogelio frigerio juntos cambio jxc catamarca gobernador raul jalil buscara nuevo periodo frente provincia competencia senador nacional dirigente radical flavio fama jxc primo jose jalil colome libertad avanza lla ciudad buenos aires cuatro candidatos disputaran sucesion horacio rodriguez larreta 10 diciembre proximo culminara ocho anos gestion jorge macri jxc primo ex presidente mauricio macri leandro santoro union patria up ramiro marra lla vanina biasi fit competiran jefatura gobierno portena eleccion presenta incognita si decidira primera vuelta balotaje contexto podran emitir voto 2533092 residentes 1214871 varones 1318002 mujeres 219 personas binarias comicios desarrollaran 7326 mesas distribuidas 1099 establecimientos diferencia primarias tras polemica desatada partir fallas registradas utilizacion boleta unica electronica bue comicios portenos realizaran dos papeletas cargos nacionales autoridades locales introduciran mismo dentro sola urna ademas portenos elegiran quienes ocuparan 30 bancas renuevan legislatura 105 lugares dentro 15 comunas parte rios elegira sucesor gobernador peronista gustavo bordet ademas intendentes diputado nacional legislador provincial parlamentario mercosur busqueda llegar casa gris ubicada ciudad parana oficialista bahl frigerio sebastian etchevehere lla surgen principales candidatos sucesion paso agosto jxc obtuvo 455 ciento votos suma interna frigerio radical pedro galimberti oficialismo entrerriano logro 383 detras entonces precandidatura bahl forma individual votado fuerza libertaria cosecho 14 etchevehere compulsa 3400 mesas distribuidas 660 escuelas podran votar primera vez 28826 adolescentes 16 anos finalmente 340 mil catamarquenos habilitados elegir hoy formulas jxc lla up lleva candidato reeleccion jalil votado paso 42 ciento sufragios oposicion juntos cambio apoya nivel nacional candidatura patricia bullrich postula gobernacion actual senador dirigente radical flavio fama mientras libertad avanza propone medico colome primo mandatario provincial ademas catamarquenos deberan elegir diputado nacional legislador provincial representante parlasur]\n"
     ]
    }
   ],
   "source": [
    "nlp = spacy.load(\"es_core_news_md\")\n",
    "#print(combinado[\"ciudad\"][3])\n",
    "texto_procesado1 = [nlp(text) for text in combinado[\"politica\"]]\n",
    "#textos_procesados = [nlp(text) for text in z]\n",
    "\n",
    "print(texto_procesado1)"
   ]
  },
  {
   "cell_type": "code",
   "execution_count": 28,
   "id": "c6f3e6a1",
   "metadata": {},
   "outputs": [
    {
     "name": "stdout",
     "output_type": "stream",
     "text": [
      "\n",
      "Resumen Extractivo:\n",
      "santafesinos domingo jueces comicios generales inciertos regreso democracia argentina casi 40 anos atras jornada indefectiblemente irrumpira nuevo ciclo historico superador cualquier resultado par enfrentar inedito escenario tres tercios posibilidades desembocar balotaje eleccion presidente vice deberan renovar parlasur definir quienes ocuparan diez bancas provincia diputados nacion altas chances segunda vuelta presidencial prevista 19 noviembre proximo aunque descartar definicion inmediata alimentadas continuidad paso agosto escasa diferencia tres principales candidatos casa rosada lapso gran parte sociedad argentina siguio sintiendose escuchada ahora encara votacion decisiva surcada cansancio falta certezas abonada mercados elevaron maximo nivel nerviosismo campana si bien contemplo dos debates obligatorios cinco aspirantes aposto exclusivamente reforzar sufragios seguros puso juego valores democraticos recuperados tras dictadura civico militar sergio massa union patria up pese portar pesada mochila oficialista confia entrar balotaje polarizar ultraderecha patricia bullrich juntos cambio jxc forzada recalcular propuesta antikirchnerismo capitalizada mayor medida rival transita misma vereda santa fe clave chances presidenciales ubicaron tope agenda prioridades cambio javier milei libertad avanza lla luego victoria paso permitio saltar grieta regreso bota activo modo cuidar ganado instalar idea triunfo primera vuelta viable pese multiples pronunciamientos espacio lidera disparados filo comicios parecieron apostar contrario javier milei libertad avanza trata decima eleccion presidencial 1983 baja cantidad postulantes cinco dado piso 15 ciento votos debieron cosechar primarias curiosamente paso mayor numero precandidatos 27 si bien espera aumento participacion ciudadana menos cinco puntos respecto 69 ciento urnas 13 agosto ocurrio generales nacionales 2021 2019 inedito contexto podria acicatear mayor concurrencia edad votantes decidan participar constituira factor determinante resultado final sergio massa union patria oferta electoral refleja binomios presidenciales mileivictoria villarruel lla massaagustin rossi up bullrichluis petri jxc juan schiarettiflorencio randazzo hacemos pais hnp myriam bregmannicolas cano frente izquierdaunidad fitu schiaretti procurara mejorar significativamente porcentaje alcanzado primarias quedo cuarto mientras izquierda tratara tonificar rol legislativo atenta definicion politica caso balotaje escena si elecciones destinadas definir quienes sucesores alberto fernandez cristina kirchner ninguno candidatos consigue porcentaje definido constitucion segunda vuelta balotaje dara caso ningun aspirante presidencial obtenga 45 ciento votos afirmativos validamente emitidos si ningun candidato cosecha 40 sufragios validos diferencia menos diez puntos segundo patricia bullrich juntos cambio todas contiendas nacionales utilizara formato boleta papel cada elector recibira mano autoridad mesa ira cuarto oscuro luego ingresara papeleta cargo depositara finalmente unica urna paralelamente renovacion legislativa 130 257 bancas camara diputados 24 72 poltronas senado congreso nacional redisenara mapa politico escenario clave gobernabilidad futura administracion juan schiaretti hacemos pais definira composicion parlasur parlamento mercosur oportunidad argentina elegira 19 representantes lista nacional cuyos votos suman distrito unico 24 cada provincias ciudad autonoma buenos aires caba vez provincias buenos aires rios catamarca capital federal caba realizaran elecciones gobernador parlamentarios locales autoridades municipales paralelo comicios nacionales myriam bregman frente izquierdaunidad territorio santafesino 2816203 personas habilitadas votar representa 796 ciento padron nacional totaliza 35394425 electores rigor menos 2818280 santafesinos votaron paso agosto cifra actual surge restar nomina personas murieron cita urnas agregar nuevas incorporaciones modos tercera provincia cantidad electores luego buenos aires cordoba frente pronostico lluvias tormentas gran parte pais especificamente santa fe podrian complicar traslado personas hacia establecimientos votacion secretaria nacional electoral dispuso plan alternativo cuarto oscuro lugares autoridades bajo techo vez casi 436 mil argentinos residentes exterior podran votar casos ucrania israel gobierno nacional suspendio acto eleccionario debido situacion imperante afecta accede toda informacion elecciones httpstcodd236gy8mweleccionesargentinamarcosschiavi pictwittercom5rkpj7roko parte direccion nacional electoral dine estimo primeros resultados comicios saldran luz despues 22 partir momento iran apareciendo respuestas gran interrogante si nuevo presidente conocera domingo si estirar expectativa noviembre/ / / / / / / / / /ministro economia candidato presidencial union patria uxp sergio massa afirmo hoy dia obliga trabajar pensando consolidacion 40 anos democracia luego emitir voto escuela no 34 antartida argentina localidad bonaerense tigre aspirante uxp casa rosada llego escuela acompanado esposa malena galmarini hijo tomas toto massa junto momento votacion luego sufragar massa dirigio cancha futbol ubicada predio escuela preparado escenario brindar conferencia prensa marco massa agradecio fuerzas seguridad fuerzas armadas colaborando operativo electoral fiscales todas fuerzas politicas pais registrado alguna demora inicio proceso votacion dos provincias vemos tramite absoluta normalidad argentina vive dia importante argentinos 4 5 minutos entrada cuarto oscuro representan definicion futuro proximos cuatro anos argentina remarco massa manera ministro destaco hoy dia obliga trabajar pensando consolidacion 40 anos democracia obliga concurrir votar pensando futuro argentina esperanza asimismo sostuvo enorme tarea 10 diciembre gobierne gobierne resolver sinnumero problemas argentina destaco desafio distintas fuerzas politicas hora presentar propuesta debemos recorrer massa pondero participacion electoral mediodia alcanzaba 30 aseguro demuestra vocacion democratica pueblo argentino pone ademas frente desafio termine jornada argentinos salgamos unidos abrazados esperanza recorrer viene solucion problemas afirmo candidato presidencial largo dia va ir consolidando participacion bueno alguna manera despues 40 anos democracia permite argentinos argentinas seguir consolidando sistema agrego vez massa confirmo partir 18 presente bunker union patria ubicado barrio porteno chacarita/ / / / / / / / / /rios catamarca ciudad autonoma buenos aires caba elegiran domingo proximos gobernantes cargos legislativos ejecutivos coincidencia comicios presidenciales gobernacion rios decidira eleccion 1143459 personas podran votar principales candidatos peronista adan bahl ex ministro interior rogelio frigerio juntos cambio jxc catamarca gobernador raul jalil buscara nuevo periodo frente provincia competencia senador nacional dirigente radical flavio fama jxc primo jose jalil colome libertad avanza lla ciudad buenos aires cuatro candidatos disputaran sucesion horacio rodriguez larreta 10 diciembre proximo culminara ocho anos gestion jorge macri jxc primo ex presidente mauricio macri leandro santoro union patria up ramiro marra lla vanina biasi fit competiran jefatura gobierno portena eleccion presenta incognita si decidira primera vuelta balotaje contexto podran emitir voto 2533092 residentes 1214871 varones 1318002 mujeres 219 personas binarias comicios desarrollaran 7326 mesas distribuidas 1099 establecimientos diferencia primarias tras polemica desatada partir fallas registradas utilizacion boleta unica electronica bue comicios portenos realizaran dos papeletas cargos nacionales autoridades locales introduciran mismo dentro sola urna ademas portenos elegiran quienes ocuparan 30 bancas renuevan legislatura 105 lugares dentro 15 comunas parte rios elegira sucesor gobernador peronista gustavo bordet ademas intendentes diputado nacional legislador provincial parlamentario mercosur busqueda llegar casa gris ubicada ciudad parana oficialista bahl frigerio sebastian etchevehere lla surgen principales candidatos sucesion paso agosto jxc obtuvo 455 ciento votos suma interna frigerio radical pedro galimberti oficialismo entrerriano logro 383 detras entonces precandidatura bahl forma individual votado fuerza libertaria cosecho 14 etchevehere compulsa 3400 mesas distribuidas 660 escuelas podran votar primera vez 28826 adolescentes 16 anos finalmente 340 mil catamarquenos habilitados elegir hoy formulas jxc lla up lleva candidato reeleccion jalil votado paso 42 ciento sufragios oposicion juntos cambio apoya nivel nacional candidatura patricia bullrich postula gobernacion actual senador dirigente radical flavio fama mientras libertad avanza propone medico colome primo mandatario provincial ademas catamarquenos deberan elegir diputado nacional legislador provincial representante parlasur/ / / / / / / / / /candidato presidencial libertad avanza lla javier milei cerro miercoles campana electoral nutrido acto estadio movistar arena barrio porteno villa crespo afirmo elecciones domingo importantes historia posible ganar primera vuelta posiblemente pasado desierto 40 anos llegar libertad exclamo milei discurso pronuncio auditorio colmado destaco elecciones importantes ultimos 107 anos senalo esperanza solo posible si futuro liberal ademas critico sectores calificaban libertarismo fenomeno barrial remarco contrario fenomeno nivel mundial recordo incursion politica busca enfrentar colectivistas ganarles luego critico sistema economico enfatizo modelo lleva convertirnos villa misera grande mundo necesario punto inflexion milei hablo reformas economicas pretende hacer caso ser presidente afirmo consiste propiedad privada mercados libres intervencion libre competencia solo sirve ser exitoso servir projimo hoy frente misma disyuntiva podemos continuar camino seguro lleva ser pobre seguir camino libertad llevo ser potencia mundial alerto luego critico alianza opositora juntos cambio jxc acuso seguros cambiar anadio sabemos aun quieren usar rotulo cambio seguros cambiar solo hacen formas misma linea aclaro quiero poder sino quiero poder darselo ustedes luego pidio militancia fiscalizar proximo domingo redoblar esfuerzos fiscalizar comicios probable si votan podemos ganar primera vuelta entusiasmo luego hizo retrospectiva campana diputado nacional 2021 afirmo impresionante pensar donde hace dos anos logro enorme hecho parte si argentinos bien metiamos politicos iban seguir cagandonos vida critico candidato jefe gobierno porteno union patria uxp leandro santoro tildo personaje nefasto santoro empezo pedir dieran espacio medios liberales ahi di cuenta liberales debiamos presentarnos dar batalla planteo milei ultimo remarco si ustedes creen injusto sistema si quieren cambiar realidad vivimos ustedes pedimos acompanen voto previa acto economista alberto benegas lynch principales asesores milei advirtio necesario romper relaciones diplomaticas vaticano creo iniciar hizo julio argentino roca suspender relaciones diplomaticas vaticano mientras cabeza vaticano prime espiritu totalitario opino milei ingreso 22 estadio movistar arena rodeado militantes ritmo panic show renga escenario candidata vicepresidenta victoria villarruel postulante jefe gobierno ramiro marra candidata gobernadora bonaerense carolina piparo hermana karina milei polemica candidata diputada lilia lemoine economista desplazo escenario moviendo desenfrenadamente brazos mientras publico cantaba casta miedo vez milei arengo publico cantara ponga huevo liberal domingo cueste cueste domingo ganar auditorio sumo grito vayan cancion popular estallidos sociales 2001 hizo mencion especial conrado caputo politico hijo santiago caputo asesor milei primo nicolas caputo amigo personal expresidente mauricio macri/ / / / / / / / / /muchas especulaciones cierne torno si eleccion categoria presidente define primera vuelta si contrario necesidad llegar balotaje conocer nombre futuro presidente pais encuestas suelen ser caracter orientativo tampoco aportan respecto ahora encuesta aproximada primarias abiertas simultaneas obligatorias paso agosto ningun candidato llego numero necesario ganar primera vuelta suceder ganen primera vuelta cualquiera cinco formulas presidenciales superaron piso 15 votos paso agosto debera conseguir elecciones generales domingo 45 votos bien 40 sufragios diferencia 10 puntos respecto binomio ubique segundo lugar sergio massa agustin rossi union patria patricia bullrich luis petri juntos cambio javier milei victoria villarruel libertad avanza lla juan schiaretti florencio randazzo hacemos pais myriam bregman nicolas cano frente izquierda trabajadoresunidad fitu candidatos pugna sistema electoral rige pais modificado ultima vez reforma constitucional 1994 impuso comicios presidenciales incluyan posibilidad segunda vuelta balotaje caso ninguna formula alcance guarismos celebrara segunda vuelta constitucion ordena realizar dentro 30 dias posteriores eleccion general quedo establecida 19 noviembre segun cronograma dispuesto camara nacional electoral cne caso realizaria nuevo debate presidencial dos candidatos compitan segunda vuelta previsto domingo 12 facultad derecho universidad buenos aires uba realizo ultimo pasado domingo 8 octubre si bien sistema doble vuelta quedo habilitado presidenciales 1995 primera vez pudo haber sido utilizado 2003 carlos menem consiguio 2445 votos nestor kirchner 2225 ex presidente riojano declino participar balotaje permitio llegada santacruceno casa rosada recien 2015 sistema finalmente estrenado mauricio macri quedado segundo general 3415 votos tras 3708 daniel scioli impuso segunda vuelta 5134\n",
      "\n"
     ]
    }
   ],
   "source": [
    "\n",
    "# Lematizar y eliminar stopwords de cada oración\n",
    "lemmatized_sentences = []\n",
    "original_sentences = []\n",
    "for sent in texto_procesado1:\n",
    "    lemmatized_sentence = \" \".join([token.lemma_ for token in sent if not token.is_stop and not token.is_punct])\n",
    "    if lemmatized_sentence.strip() != '':  # Asegurarse de que la oración no esté vacía\n",
    "        lemmatized_sentences.append(lemmatized_sentence)\n",
    "        original_sentences.append(str(sent).strip())\n",
    "\n",
    "        # Procesar las oraciones lematizadas con spaCy para obtener sus vectores\n",
    "lemmatized_docs = [nlp(sent) for sent in lemmatized_sentences]\n",
    "\n",
    "# Obtenemos una lista con los vectores de cada oración\n",
    "sentence_vectors = [sent.vector for sent in lemmatized_docs]\n",
    "\n",
    "# Crear una matriz de similitud entre las oraciones filtradas\n",
    "similarity_matrix = cosine_similarity(sentence_vectors)\n",
    "\n",
    "\n",
    "\n",
    "def summarize(similarityMatrix, num_sentences=5): \n",
    "\n",
    "    nx_graph = nx.from_numpy_array(similarityMatrix)\n",
    "    scores = nx.pagerank(nx_graph)\n",
    "\n",
    "    ranked_sentences = sorted(((scores[i], s) for i, s in enumerate(original_sentences)), reverse=True)\n",
    "    return '/ / / / / / / / / /'.join([ranked_sentences[i][1] for i in range(num_sentences)])\n",
    "\n",
    "# Generar resumen extractivo\n",
    "resumen = summarize(similarity_matrix, num_sentences=5)\n",
    "print(\"\\nResumen Extractivo:\")\n",
    "print(f'{resumen}\\n')"
   ]
  }
 ],
 "metadata": {
  "kernelspec": {
   "display_name": "Python 3 (ipykernel)",
   "language": "python",
   "name": "python3"
  },
  "language_info": {
   "codemirror_mode": {
    "name": "ipython",
    "version": 3
   },
   "file_extension": ".py",
   "mimetype": "text/x-python",
   "name": "python",
   "nbconvert_exporter": "python",
   "pygments_lexer": "ipython3",
   "version": "3.11.4"
  }
 },
 "nbformat": 4,
 "nbformat_minor": 5
}
