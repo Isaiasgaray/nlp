{
 "cells": [
  {
   "cell_type": "code",
   "execution_count": 1,
   "id": "16951d73-b163-49ee-9590-c6e32bed6cbb",
   "metadata": {},
   "outputs": [],
   "source": [
    "import pandas as pd"
   ]
  },
  {
   "cell_type": "code",
   "execution_count": 73,
   "id": "9f563782-1ebc-4956-a3c4-c5c8d06216c9",
   "metadata": {},
   "outputs": [],
   "source": [
    "df_capital = pd.read_csv('datasets/lacapital.csv')\n",
    "\n",
    "df_capital.dropna(inplace=True)"
   ]
  },
  {
   "cell_type": "markdown",
   "id": "ec015b8d-62d9-432b-9fb3-0c18d8474a1a",
   "metadata": {},
   "source": [
    "# Ejercicio 2"
   ]
  },
  {
   "cell_type": "code",
   "execution_count": 153,
   "id": "a1ad6755-6f5e-46a0-9aee-7e21e67a19be",
   "metadata": {},
   "outputs": [
    {
     "data": {
      "text/plain": [
       "categoria\n",
       "Ovación                  46\n",
       "Política                 34\n",
       "La Ciudad                25\n",
       "Zoom                     21\n",
       "Policiales               19\n",
       "La Región                14\n",
       "Información General      13\n",
       "Economía                 11\n",
       "Mundial de Rugby 2023     8\n",
       "El Mundo                  5\n",
       "Educación                 4\n",
       "Turismo                   4\n",
       "La región                 2\n",
       "Negocios                  2\n",
       "Colón                     1\n",
       "Baby Etchecopar           1\n",
       "Julián Montoya            1\n",
       "Opinión                   1\n",
       "Name: count, dtype: int64"
      ]
     },
     "execution_count": 153,
     "metadata": {},
     "output_type": "execute_result"
    }
   ],
   "source": [
    "df_capital['categoria'].value_counts()"
   ]
  },
  {
   "cell_type": "code",
   "execution_count": 190,
   "id": "1d7364b6-bd5f-4f82-a021-135a203134ca",
   "metadata": {},
   "outputs": [],
   "source": [
    "categorias = df_capital['categoria'].value_counts()\n",
    "categorias = categorias[categorias >= 21].index"
   ]
  },
  {
   "cell_type": "code",
   "execution_count": 191,
   "id": "5311daef-bb5f-49b3-a7e9-6d9b95906801",
   "metadata": {},
   "outputs": [],
   "source": [
    "categorias_df = list()\n",
    "\n",
    "for categoria in categorias:\n",
    "    temp_df = df_capital[df_capital['categoria'] == categoria]\n",
    "    categorias_df.append(temp_df.sample(10, random_state=1))"
   ]
  },
  {
   "cell_type": "code",
   "execution_count": 192,
   "id": "fe5b83ff-02f3-4e14-947b-02639f431386",
   "metadata": {},
   "outputs": [],
   "source": [
    "x = list()\n",
    "y = list()\n",
    "\n",
    "for df in categorias_df:\n",
    "    x += df['titulo'].str.lower().tolist()\n",
    "    y += df['categoria'].str.lower().tolist()"
   ]
  },
  {
   "cell_type": "code",
   "execution_count": 193,
   "id": "ebf6a078-ab6e-46ec-bd0a-a5d7cf8e1122",
   "metadata": {},
   "outputs": [],
   "source": [
    "from sklearn.model_selection import train_test_split\n",
    "from sklearn.linear_model import LogisticRegression\n",
    "from sklearn.feature_extraction.text import TfidfVectorizer\n",
    "from sklearn.metrics import accuracy_score, classification_report"
   ]
  },
  {
   "cell_type": "code",
   "execution_count": 194,
   "id": "bbff3422-f65b-49ca-8c53-d08a729dc82f",
   "metadata": {},
   "outputs": [],
   "source": [
    "x_train, x_test, y_train, y_test = \\\n",
    "    train_test_split(x, y, test_size=0.2, random_state=1)"
   ]
  },
  {
   "cell_type": "code",
   "execution_count": 195,
   "id": "67ab1e39-1920-4b19-819e-8e5ce81b558e",
   "metadata": {},
   "outputs": [
    {
     "data": {
      "text/html": [
       "<style>#sk-container-id-5 {color: black;}#sk-container-id-5 pre{padding: 0;}#sk-container-id-5 div.sk-toggleable {background-color: white;}#sk-container-id-5 label.sk-toggleable__label {cursor: pointer;display: block;width: 100%;margin-bottom: 0;padding: 0.3em;box-sizing: border-box;text-align: center;}#sk-container-id-5 label.sk-toggleable__label-arrow:before {content: \"▸\";float: left;margin-right: 0.25em;color: #696969;}#sk-container-id-5 label.sk-toggleable__label-arrow:hover:before {color: black;}#sk-container-id-5 div.sk-estimator:hover label.sk-toggleable__label-arrow:before {color: black;}#sk-container-id-5 div.sk-toggleable__content {max-height: 0;max-width: 0;overflow: hidden;text-align: left;background-color: #f0f8ff;}#sk-container-id-5 div.sk-toggleable__content pre {margin: 0.2em;color: black;border-radius: 0.25em;background-color: #f0f8ff;}#sk-container-id-5 input.sk-toggleable__control:checked~div.sk-toggleable__content {max-height: 200px;max-width: 100%;overflow: auto;}#sk-container-id-5 input.sk-toggleable__control:checked~label.sk-toggleable__label-arrow:before {content: \"▾\";}#sk-container-id-5 div.sk-estimator input.sk-toggleable__control:checked~label.sk-toggleable__label {background-color: #d4ebff;}#sk-container-id-5 div.sk-label input.sk-toggleable__control:checked~label.sk-toggleable__label {background-color: #d4ebff;}#sk-container-id-5 input.sk-hidden--visually {border: 0;clip: rect(1px 1px 1px 1px);clip: rect(1px, 1px, 1px, 1px);height: 1px;margin: -1px;overflow: hidden;padding: 0;position: absolute;width: 1px;}#sk-container-id-5 div.sk-estimator {font-family: monospace;background-color: #f0f8ff;border: 1px dotted black;border-radius: 0.25em;box-sizing: border-box;margin-bottom: 0.5em;}#sk-container-id-5 div.sk-estimator:hover {background-color: #d4ebff;}#sk-container-id-5 div.sk-parallel-item::after {content: \"\";width: 100%;border-bottom: 1px solid gray;flex-grow: 1;}#sk-container-id-5 div.sk-label:hover label.sk-toggleable__label {background-color: #d4ebff;}#sk-container-id-5 div.sk-serial::before {content: \"\";position: absolute;border-left: 1px solid gray;box-sizing: border-box;top: 0;bottom: 0;left: 50%;z-index: 0;}#sk-container-id-5 div.sk-serial {display: flex;flex-direction: column;align-items: center;background-color: white;padding-right: 0.2em;padding-left: 0.2em;position: relative;}#sk-container-id-5 div.sk-item {position: relative;z-index: 1;}#sk-container-id-5 div.sk-parallel {display: flex;align-items: stretch;justify-content: center;background-color: white;position: relative;}#sk-container-id-5 div.sk-item::before, #sk-container-id-5 div.sk-parallel-item::before {content: \"\";position: absolute;border-left: 1px solid gray;box-sizing: border-box;top: 0;bottom: 0;left: 50%;z-index: -1;}#sk-container-id-5 div.sk-parallel-item {display: flex;flex-direction: column;z-index: 1;position: relative;background-color: white;}#sk-container-id-5 div.sk-parallel-item:first-child::after {align-self: flex-end;width: 50%;}#sk-container-id-5 div.sk-parallel-item:last-child::after {align-self: flex-start;width: 50%;}#sk-container-id-5 div.sk-parallel-item:only-child::after {width: 0;}#sk-container-id-5 div.sk-dashed-wrapped {border: 1px dashed gray;margin: 0 0.4em 0.5em 0.4em;box-sizing: border-box;padding-bottom: 0.4em;background-color: white;}#sk-container-id-5 div.sk-label label {font-family: monospace;font-weight: bold;display: inline-block;line-height: 1.2em;}#sk-container-id-5 div.sk-label-container {text-align: center;}#sk-container-id-5 div.sk-container {/* jupyter's `normalize.less` sets `[hidden] { display: none; }` but bootstrap.min.css set `[hidden] { display: none !important; }` so we also need the `!important` here to be able to override the default hidden behavior on the sphinx rendered scikit-learn.org. See: https://github.com/scikit-learn/scikit-learn/issues/21755 */display: inline-block !important;position: relative;}#sk-container-id-5 div.sk-text-repr-fallback {display: none;}</style><div id=\"sk-container-id-5\" class=\"sk-top-container\"><div class=\"sk-text-repr-fallback\"><pre>LogisticRegression(max_iter=1000)</pre><b>In a Jupyter environment, please rerun this cell to show the HTML representation or trust the notebook. <br />On GitHub, the HTML representation is unable to render, please try loading this page with nbviewer.org.</b></div><div class=\"sk-container\" hidden><div class=\"sk-item\"><div class=\"sk-estimator sk-toggleable\"><input class=\"sk-toggleable__control sk-hidden--visually\" id=\"sk-estimator-id-5\" type=\"checkbox\" checked><label for=\"sk-estimator-id-5\" class=\"sk-toggleable__label sk-toggleable__label-arrow\">LogisticRegression</label><div class=\"sk-toggleable__content\"><pre>LogisticRegression(max_iter=1000)</pre></div></div></div></div></div>"
      ],
      "text/plain": [
       "LogisticRegression(max_iter=1000)"
      ]
     },
     "execution_count": 195,
     "metadata": {},
     "output_type": "execute_result"
    }
   ],
   "source": [
    "vectorizer = TfidfVectorizer()\n",
    "x_train_vectorized = vectorizer.fit_transform(x_train)\n",
    "x_test_vectorized = vectorizer.transform(x_test)\n",
    "\n",
    "modelo_LR = LogisticRegression(max_iter=1000)\n",
    "modelo_LR.fit(x_train_vectorized, y_train)"
   ]
  },
  {
   "cell_type": "code",
   "execution_count": 196,
   "id": "b25b018d-9f47-4f87-bb80-84edd91782f9",
   "metadata": {},
   "outputs": [],
   "source": [
    "y_pred_LR = modelo_LR.predict(x_test_vectorized)\n",
    "acc_LR = accuracy_score(y_test, y_pred_LR)\n",
    "report_LR = classification_report(y_test, y_pred_LR, zero_division=1)"
   ]
  },
  {
   "cell_type": "code",
   "execution_count": 197,
   "id": "465681dd-97bd-4195-aed2-955801001091",
   "metadata": {},
   "outputs": [
    {
     "name": "stdout",
     "output_type": "stream",
     "text": [
      "Precisión Regresión Logística: 0.375\n",
      "Reporte de clasificación Regresión Logística:\n",
      "               precision    recall  f1-score   support\n",
      "\n",
      "   la ciudad       1.00      0.00      0.00         4\n",
      "     ovación       1.00      0.50      0.67         2\n",
      "    política       0.00      1.00      0.00         0\n",
      "        zoom       1.00      1.00      1.00         2\n",
      "\n",
      "    accuracy                           0.38         8\n",
      "   macro avg       0.75      0.62      0.42         8\n",
      "weighted avg       1.00      0.38      0.42         8\n",
      "\n"
     ]
    }
   ],
   "source": [
    "print(\"Precisión Regresión Logística:\", acc_LR)\n",
    "print(\"Reporte de clasificación Regresión Logística:\\n\", report_LR)"
   ]
  },
  {
   "cell_type": "code",
   "execution_count": 211,
   "id": "16e93b9a-8586-4e58-a1eb-0270a9b26059",
   "metadata": {},
   "outputs": [
    {
     "name": "stdout",
     "output_type": "stream",
     "text": [
      "['política' 'política']\n"
     ]
    }
   ],
   "source": [
    "print(modelo_LR.predict(vectorizer.transform([\"nada de pesos de los pumas en dolares\", \"\"])))"
   ]
  }
 ],
 "metadata": {
  "kernelspec": {
   "display_name": "Python 3 (ipykernel)",
   "language": "python",
   "name": "python3"
  },
  "language_info": {
   "codemirror_mode": {
    "name": "ipython",
    "version": 3
   },
   "file_extension": ".py",
   "mimetype": "text/x-python",
   "name": "python",
   "nbconvert_exporter": "python",
   "pygments_lexer": "ipython3",
   "version": "3.10.12"
  }
 },
 "nbformat": 4,
 "nbformat_minor": 5
}
