{
 "cells": [
  {
   "cell_type": "code",
   "execution_count": 1,
   "id": "16951d73-b163-49ee-9590-c6e32bed6cbb",
   "metadata": {},
   "outputs": [],
   "source": [
    "import pandas as pd"
   ]
  },
  {
   "cell_type": "code",
   "execution_count": 50,
   "id": "9f563782-1ebc-4956-a3c4-c5c8d06216c9",
   "metadata": {},
   "outputs": [],
   "source": [
    "df_capital = pd.read_csv('datasets/lacapital.csv')\n",
    "\n",
    "df_capital.dropna(inplace=True)"
   ]
  },
  {
   "cell_type": "markdown",
   "id": "955c1432-fdc8-4886-8411-7332074f4117",
   "metadata": {},
   "source": [
    "# Limpieza y normalización de texto "
   ]
  },
  {
   "cell_type": "code",
   "execution_count": 55,
   "id": "84b67fbb-31bd-4498-a20e-6916d4b162e1",
   "metadata": {},
   "outputs": [
    {
     "name": "stderr",
     "output_type": "stream",
     "text": [
      "[nltk_data] Downloading package stopwords to /home/isaias/nltk_data...\n",
      "[nltk_data]   Package stopwords is already up-to-date!\n",
      "[nltk_data] Downloading package punkt to /home/isaias/nltk_data...\n",
      "[nltk_data]   Unzipping tokenizers/punkt.zip.\n"
     ]
    }
   ],
   "source": [
    "import unicodedata\n",
    "import nltk\n",
    "from nltk.corpus import stopwords\n",
    "from nltk.tokenize import word_tokenize\n",
    "\n",
    "nltk.download('stopwords')\n",
    "nltk.download('punkt')\n",
    "\n",
    "stop_words = set(stopwords.words('spanish'))\n",
    "\n",
    "def remove_accents(input_str):\n",
    "  nfkd_form = unicodedata.normalize('NFKD', input_str)\n",
    "  return ''.join([c for c in nfkd_form if not unicodedata.combining(c)])\n",
    "\n",
    "def remove_stopwords(text):\n",
    "  word_tokens = word_tokenize(text)\n",
    "  filtered_text = [word for word in word_tokens if word.casefold() not in stop_words]\n",
    "  return \" \".join(filtered_text)\n",
    "\n",
    "for col in df_capital.columns[:-2]:\n",
    "    df_capital[col] = df_capital[col].str.lower()\n",
    "    df_capital[col] = df_capital[col].str.replace('[^\\w\\s]', '', regex=True)\n",
    "    df_capital[col] = df_capital[col].apply(remove_stopwords)\n",
    "    df_capital[col] = df_capital[col].apply(remove_accents)"
   ]
  },
  {
   "cell_type": "code",
   "execution_count": 56,
   "id": "a363ee7c-9343-49a6-bd9b-1c494c8ae2df",
   "metadata": {},
   "outputs": [
    {
     "data": {
      "text/html": [
       "<div>\n",
       "<style scoped>\n",
       "    .dataframe tbody tr th:only-of-type {\n",
       "        vertical-align: middle;\n",
       "    }\n",
       "\n",
       "    .dataframe tbody tr th {\n",
       "        vertical-align: top;\n",
       "    }\n",
       "\n",
       "    .dataframe thead th {\n",
       "        text-align: right;\n",
       "    }\n",
       "</style>\n",
       "<table border=\"1\" class=\"dataframe\">\n",
       "  <thead>\n",
       "    <tr style=\"text-align: right;\">\n",
       "      <th></th>\n",
       "      <th>titulo</th>\n",
       "      <th>texto</th>\n",
       "      <th>categoria</th>\n",
       "      <th>url</th>\n",
       "      <th>fecha</th>\n",
       "    </tr>\n",
       "  </thead>\n",
       "  <tbody>\n",
       "    <tr>\n",
       "      <th>0</th>\n",
       "      <td>tiempo rosario sabado calor anticipo lluvias</td>\n",
       "      <td>servicio meteorologico nacional smn indico pro...</td>\n",
       "      <td>ciudad</td>\n",
       "      <td>https://www.lacapital.com.ar/la-ciudad/el-tiem...</td>\n",
       "      <td>2023-10-20T22:53:00</td>\n",
       "    </tr>\n",
       "    <tr>\n",
       "      <th>1</th>\n",
       "      <td>provincial debuta sabado liga argentina</td>\n",
       "      <td>provincial debutara sabado 22 salvador bonilla...</td>\n",
       "      <td>ovacion</td>\n",
       "      <td>https://www.lacapital.com.ar/ovacion/provincia...</td>\n",
       "      <td>2023-10-20T22:20:00</td>\n",
       "    </tr>\n",
       "    <tr>\n",
       "      <th>2</th>\n",
       "      <td>efecto sequia economia santa fe cayo 76</td>\n",
       "      <td>actividad economica santa fe cayo 76 julio acu...</td>\n",
       "      <td>economia</td>\n",
       "      <td>https://www.lacapital.com.ar/economia/por-efec...</td>\n",
       "      <td>2023-10-20T22:11:00</td>\n",
       "    </tr>\n",
       "    <tr>\n",
       "      <th>3</th>\n",
       "      <td>tensa tregua cambiaria semana preelectoral</td>\n",
       "      <td>refuerzo swap chino fuerzas seguridad mercado ...</td>\n",
       "      <td>economia</td>\n",
       "      <td>https://www.lacapital.com.ar/economia/tensa-tr...</td>\n",
       "      <td>2023-10-20T22:09:00</td>\n",
       "    </tr>\n",
       "    <tr>\n",
       "      <th>4</th>\n",
       "      <td>plaza juega salvacion top 12 urba</td>\n",
       "      <td>sabado finaliza fase regular top 12 jornada de...</td>\n",
       "      <td>ovacion</td>\n",
       "      <td>https://www.lacapital.com.ar/ovacion/plaza-jue...</td>\n",
       "      <td>2023-10-20T22:05:00</td>\n",
       "    </tr>\n",
       "    <tr>\n",
       "      <th>...</th>\n",
       "      <td>...</td>\n",
       "      <td>...</td>\n",
       "      <td>...</td>\n",
       "      <td>...</td>\n",
       "      <td>...</td>\n",
       "    </tr>\n",
       "    <tr>\n",
       "      <th>210</th>\n",
       "      <td>quedo preso femicida mato pareja pension barri...</td>\n",
       "      <td>julio alberto ramirez changarin mercado produc...</td>\n",
       "      <td>policiales</td>\n",
       "      <td>https://www.lacapital.com.ar/policiales/quedo-...</td>\n",
       "      <td>2023-10-21T17:30:00</td>\n",
       "    </tr>\n",
       "    <tr>\n",
       "      <th>211</th>\n",
       "      <td>atilra salio cruce sancor videos muestran cami...</td>\n",
       "      <td>comunicado difundido sabado consejo directivo ...</td>\n",
       "      <td>informacion general</td>\n",
       "      <td>https://www.lacapital.com.ar/informacion-gener...</td>\n",
       "      <td>2023-10-21T17:23:00</td>\n",
       "    </tr>\n",
       "    <tr>\n",
       "      <th>212</th>\n",
       "      <td>confirman asesinato noveno argentino manos ham...</td>\n",
       "      <td>argentina sumo novena victima fatal menos grup...</td>\n",
       "      <td>mundo</td>\n",
       "      <td>https://www.lacapital.com.ar/el-mundo/confirma...</td>\n",
       "      <td>2023-10-21T17:16:00</td>\n",
       "    </tr>\n",
       "    <tr>\n",
       "      <th>213</th>\n",
       "      <td>juegos panamericanos pacheco remo metio final</td>\n",
       "      <td>jornada sabatina bien tempranito rosarino igna...</td>\n",
       "      <td>ovacion</td>\n",
       "      <td>https://www.lacapital.com.ar/ovacion/juegos-pa...</td>\n",
       "      <td>2023-10-21T16:33:00</td>\n",
       "    </tr>\n",
       "    <tr>\n",
       "      <th>214</th>\n",
       "      <td>hallaron hombre golpeado muerto dentro casa fi...</td>\n",
       "      <td>florencio ambrossi vecinos conocian familia ha...</td>\n",
       "      <td>policiales</td>\n",
       "      <td>https://www.lacapital.com.ar/policiales/hallar...</td>\n",
       "      <td>2023-10-21T16:32:00</td>\n",
       "    </tr>\n",
       "  </tbody>\n",
       "</table>\n",
       "<p>212 rows × 5 columns</p>\n",
       "</div>"
      ],
      "text/plain": [
       "                                                titulo  \\\n",
       "0         tiempo rosario sabado calor anticipo lluvias   \n",
       "1              provincial debuta sabado liga argentina   \n",
       "2              efecto sequia economia santa fe cayo 76   \n",
       "3           tensa tregua cambiaria semana preelectoral   \n",
       "4                    plaza juega salvacion top 12 urba   \n",
       "..                                                 ...   \n",
       "210  quedo preso femicida mato pareja pension barri...   \n",
       "211  atilra salio cruce sancor videos muestran cami...   \n",
       "212  confirman asesinato noveno argentino manos ham...   \n",
       "213      juegos panamericanos pacheco remo metio final   \n",
       "214  hallaron hombre golpeado muerto dentro casa fi...   \n",
       "\n",
       "                                                 texto            categoria  \\\n",
       "0    servicio meteorologico nacional smn indico pro...               ciudad   \n",
       "1    provincial debutara sabado 22 salvador bonilla...              ovacion   \n",
       "2    actividad economica santa fe cayo 76 julio acu...             economia   \n",
       "3    refuerzo swap chino fuerzas seguridad mercado ...             economia   \n",
       "4    sabado finaliza fase regular top 12 jornada de...              ovacion   \n",
       "..                                                 ...                  ...   \n",
       "210  julio alberto ramirez changarin mercado produc...           policiales   \n",
       "211  comunicado difundido sabado consejo directivo ...  informacion general   \n",
       "212  argentina sumo novena victima fatal menos grup...                mundo   \n",
       "213  jornada sabatina bien tempranito rosarino igna...              ovacion   \n",
       "214  florencio ambrossi vecinos conocian familia ha...           policiales   \n",
       "\n",
       "                                                   url                fecha  \n",
       "0    https://www.lacapital.com.ar/la-ciudad/el-tiem...  2023-10-20T22:53:00  \n",
       "1    https://www.lacapital.com.ar/ovacion/provincia...  2023-10-20T22:20:00  \n",
       "2    https://www.lacapital.com.ar/economia/por-efec...  2023-10-20T22:11:00  \n",
       "3    https://www.lacapital.com.ar/economia/tensa-tr...  2023-10-20T22:09:00  \n",
       "4    https://www.lacapital.com.ar/ovacion/plaza-jue...  2023-10-20T22:05:00  \n",
       "..                                                 ...                  ...  \n",
       "210  https://www.lacapital.com.ar/policiales/quedo-...  2023-10-21T17:30:00  \n",
       "211  https://www.lacapital.com.ar/informacion-gener...  2023-10-21T17:23:00  \n",
       "212  https://www.lacapital.com.ar/el-mundo/confirma...  2023-10-21T17:16:00  \n",
       "213  https://www.lacapital.com.ar/ovacion/juegos-pa...  2023-10-21T16:33:00  \n",
       "214  https://www.lacapital.com.ar/policiales/hallar...  2023-10-21T16:32:00  \n",
       "\n",
       "[212 rows x 5 columns]"
      ]
     },
     "execution_count": 56,
     "metadata": {},
     "output_type": "execute_result"
    }
   ],
   "source": [
    "df_capital"
   ]
  },
  {
   "cell_type": "markdown",
   "id": "ec015b8d-62d9-432b-9fb3-0c18d8474a1a",
   "metadata": {
    "tags": []
   },
   "source": [
    "# Ejercicio 2"
   ]
  },
  {
   "cell_type": "code",
   "execution_count": 57,
   "id": "a1ad6755-6f5e-46a0-9aee-7e21e67a19be",
   "metadata": {},
   "outputs": [
    {
     "data": {
      "text/plain": [
       "categoria\n",
       "ovacion                46\n",
       "politica               34\n",
       "ciudad                 25\n",
       "zoom                   21\n",
       "policiales             19\n",
       "region                 16\n",
       "informacion general    13\n",
       "economia               11\n",
       "mundial rugby 2023      8\n",
       "mundo                   5\n",
       "educacion               4\n",
       "turismo                 4\n",
       "negocios                2\n",
       "colon                   1\n",
       "julian montoya          1\n",
       "baby etchecopar         1\n",
       "opinion                 1\n",
       "Name: count, dtype: int64"
      ]
     },
     "execution_count": 57,
     "metadata": {},
     "output_type": "execute_result"
    }
   ],
   "source": [
    "df_capital['categoria'].value_counts()"
   ]
  },
  {
   "cell_type": "code",
   "execution_count": 101,
   "id": "1d7364b6-bd5f-4f82-a021-135a203134ca",
   "metadata": {},
   "outputs": [],
   "source": [
    "categorias = df_capital['categoria'].value_counts()\n",
    "categorias = categorias[categorias >= 10].index[:4]"
   ]
  },
  {
   "cell_type": "code",
   "execution_count": 102,
   "id": "5311daef-bb5f-49b3-a7e9-6d9b95906801",
   "metadata": {},
   "outputs": [],
   "source": [
    "categorias_df = list()\n",
    "\n",
    "for categoria in categorias:\n",
    "    temp_df = df_capital[df_capital['categoria'] == categoria]\n",
    "    categorias_df.append(temp_df.sample(10, random_state=1))"
   ]
  },
  {
   "cell_type": "code",
   "execution_count": 103,
   "id": "fe5b83ff-02f3-4e14-947b-02639f431386",
   "metadata": {},
   "outputs": [],
   "source": [
    "x = list()\n",
    "y = list()\n",
    "\n",
    "for df in categorias_df:\n",
    "    x += df['titulo'].tolist()\n",
    "    y += df['categoria'].tolist()"
   ]
  },
  {
   "cell_type": "code",
   "execution_count": 104,
   "id": "ebf6a078-ab6e-46ec-bd0a-a5d7cf8e1122",
   "metadata": {},
   "outputs": [],
   "source": [
    "from sklearn.model_selection import train_test_split\n",
    "from sklearn.linear_model import LogisticRegression\n",
    "from sklearn.feature_extraction.text import TfidfVectorizer\n",
    "from sklearn.metrics import accuracy_score, classification_report"
   ]
  },
  {
   "cell_type": "code",
   "execution_count": 105,
   "id": "bbff3422-f65b-49ca-8c53-d08a729dc82f",
   "metadata": {},
   "outputs": [],
   "source": [
    "x_train, x_test, y_train, y_test = \\\n",
    "    train_test_split(x, y, test_size=0.2, random_state=1)"
   ]
  },
  {
   "cell_type": "code",
   "execution_count": 106,
   "id": "67ab1e39-1920-4b19-819e-8e5ce81b558e",
   "metadata": {},
   "outputs": [
    {
     "data": {
      "text/html": [
       "<style>#sk-container-id-6 {color: black;}#sk-container-id-6 pre{padding: 0;}#sk-container-id-6 div.sk-toggleable {background-color: white;}#sk-container-id-6 label.sk-toggleable__label {cursor: pointer;display: block;width: 100%;margin-bottom: 0;padding: 0.3em;box-sizing: border-box;text-align: center;}#sk-container-id-6 label.sk-toggleable__label-arrow:before {content: \"▸\";float: left;margin-right: 0.25em;color: #696969;}#sk-container-id-6 label.sk-toggleable__label-arrow:hover:before {color: black;}#sk-container-id-6 div.sk-estimator:hover label.sk-toggleable__label-arrow:before {color: black;}#sk-container-id-6 div.sk-toggleable__content {max-height: 0;max-width: 0;overflow: hidden;text-align: left;background-color: #f0f8ff;}#sk-container-id-6 div.sk-toggleable__content pre {margin: 0.2em;color: black;border-radius: 0.25em;background-color: #f0f8ff;}#sk-container-id-6 input.sk-toggleable__control:checked~div.sk-toggleable__content {max-height: 200px;max-width: 100%;overflow: auto;}#sk-container-id-6 input.sk-toggleable__control:checked~label.sk-toggleable__label-arrow:before {content: \"▾\";}#sk-container-id-6 div.sk-estimator input.sk-toggleable__control:checked~label.sk-toggleable__label {background-color: #d4ebff;}#sk-container-id-6 div.sk-label input.sk-toggleable__control:checked~label.sk-toggleable__label {background-color: #d4ebff;}#sk-container-id-6 input.sk-hidden--visually {border: 0;clip: rect(1px 1px 1px 1px);clip: rect(1px, 1px, 1px, 1px);height: 1px;margin: -1px;overflow: hidden;padding: 0;position: absolute;width: 1px;}#sk-container-id-6 div.sk-estimator {font-family: monospace;background-color: #f0f8ff;border: 1px dotted black;border-radius: 0.25em;box-sizing: border-box;margin-bottom: 0.5em;}#sk-container-id-6 div.sk-estimator:hover {background-color: #d4ebff;}#sk-container-id-6 div.sk-parallel-item::after {content: \"\";width: 100%;border-bottom: 1px solid gray;flex-grow: 1;}#sk-container-id-6 div.sk-label:hover label.sk-toggleable__label {background-color: #d4ebff;}#sk-container-id-6 div.sk-serial::before {content: \"\";position: absolute;border-left: 1px solid gray;box-sizing: border-box;top: 0;bottom: 0;left: 50%;z-index: 0;}#sk-container-id-6 div.sk-serial {display: flex;flex-direction: column;align-items: center;background-color: white;padding-right: 0.2em;padding-left: 0.2em;position: relative;}#sk-container-id-6 div.sk-item {position: relative;z-index: 1;}#sk-container-id-6 div.sk-parallel {display: flex;align-items: stretch;justify-content: center;background-color: white;position: relative;}#sk-container-id-6 div.sk-item::before, #sk-container-id-6 div.sk-parallel-item::before {content: \"\";position: absolute;border-left: 1px solid gray;box-sizing: border-box;top: 0;bottom: 0;left: 50%;z-index: -1;}#sk-container-id-6 div.sk-parallel-item {display: flex;flex-direction: column;z-index: 1;position: relative;background-color: white;}#sk-container-id-6 div.sk-parallel-item:first-child::after {align-self: flex-end;width: 50%;}#sk-container-id-6 div.sk-parallel-item:last-child::after {align-self: flex-start;width: 50%;}#sk-container-id-6 div.sk-parallel-item:only-child::after {width: 0;}#sk-container-id-6 div.sk-dashed-wrapped {border: 1px dashed gray;margin: 0 0.4em 0.5em 0.4em;box-sizing: border-box;padding-bottom: 0.4em;background-color: white;}#sk-container-id-6 div.sk-label label {font-family: monospace;font-weight: bold;display: inline-block;line-height: 1.2em;}#sk-container-id-6 div.sk-label-container {text-align: center;}#sk-container-id-6 div.sk-container {/* jupyter's `normalize.less` sets `[hidden] { display: none; }` but bootstrap.min.css set `[hidden] { display: none !important; }` so we also need the `!important` here to be able to override the default hidden behavior on the sphinx rendered scikit-learn.org. See: https://github.com/scikit-learn/scikit-learn/issues/21755 */display: inline-block !important;position: relative;}#sk-container-id-6 div.sk-text-repr-fallback {display: none;}</style><div id=\"sk-container-id-6\" class=\"sk-top-container\"><div class=\"sk-text-repr-fallback\"><pre>LogisticRegression(max_iter=1000)</pre><b>In a Jupyter environment, please rerun this cell to show the HTML representation or trust the notebook. <br />On GitHub, the HTML representation is unable to render, please try loading this page with nbviewer.org.</b></div><div class=\"sk-container\" hidden><div class=\"sk-item\"><div class=\"sk-estimator sk-toggleable\"><input class=\"sk-toggleable__control sk-hidden--visually\" id=\"sk-estimator-id-6\" type=\"checkbox\" checked><label for=\"sk-estimator-id-6\" class=\"sk-toggleable__label sk-toggleable__label-arrow\">LogisticRegression</label><div class=\"sk-toggleable__content\"><pre>LogisticRegression(max_iter=1000)</pre></div></div></div></div></div>"
      ],
      "text/plain": [
       "LogisticRegression(max_iter=1000)"
      ]
     },
     "execution_count": 106,
     "metadata": {},
     "output_type": "execute_result"
    }
   ],
   "source": [
    "vectorizer = TfidfVectorizer()\n",
    "x_train_vectorized = vectorizer.fit_transform(x_train)\n",
    "x_test_vectorized = vectorizer.transform(x_test)\n",
    "\n",
    "modelo_LR = LogisticRegression(max_iter=1000)\n",
    "modelo_LR.fit(x_train_vectorized, y_train)"
   ]
  },
  {
   "cell_type": "code",
   "execution_count": 107,
   "id": "b25b018d-9f47-4f87-bb80-84edd91782f9",
   "metadata": {},
   "outputs": [],
   "source": [
    "y_pred_LR = modelo_LR.predict(x_test_vectorized)\n",
    "acc_LR = accuracy_score(y_test, y_pred_LR)\n",
    "report_LR = classification_report(y_test, y_pred_LR, zero_division=1)"
   ]
  },
  {
   "cell_type": "code",
   "execution_count": 108,
   "id": "465681dd-97bd-4195-aed2-955801001091",
   "metadata": {},
   "outputs": [
    {
     "name": "stdout",
     "output_type": "stream",
     "text": [
      "Precisión Regresión Logística: 0.5\n",
      "Reporte de clasificación Regresión Logística:\n",
      "               precision    recall  f1-score   support\n",
      "\n",
      "      ciudad       1.00      0.25      0.40         4\n",
      "     ovacion       1.00      0.50      0.67         2\n",
      "    politica       0.00      1.00      0.00         0\n",
      "        zoom       1.00      1.00      1.00         2\n",
      "\n",
      "    accuracy                           0.50         8\n",
      "   macro avg       0.75      0.69      0.52         8\n",
      "weighted avg       1.00      0.50      0.62         8\n",
      "\n"
     ]
    }
   ],
   "source": [
    "print(\"Precisión Regresión Logística:\", acc_LR)\n",
    "print(\"Reporte de clasificación Regresión Logística:\\n\", report_LR)"
   ]
  },
  {
   "cell_type": "code",
   "execution_count": 109,
   "id": "16e93b9a-8586-4e58-a1eb-0270a9b26059",
   "metadata": {},
   "outputs": [
    {
     "name": "stdout",
     "output_type": "stream",
     "text": [
      "['politica' 'ovacion' 'politica' 'zoom']\n"
     ]
    }
   ],
   "source": [
    "print(modelo_LR.predict(vectorizer.transform([\"en pesos\", \"pesos de los pumas\",\n",
    "                                              \"pesos de los pumas con milei\",\n",
    "                                              \"pesos de los pumas con milei en un show de cine\"])))"
   ]
  },
  {
   "cell_type": "markdown",
   "id": "3d510626-dec2-4508-8df3-f019037fa096",
   "metadata": {},
   "source": [
    "# Ejercicio 3"
   ]
  },
  {
   "cell_type": "markdown",
   "id": "6ae10550-741b-4e16-aaab-5737d91c667d",
   "metadata": {},
   "source": [
    "# Ejercicio 4"
   ]
  }
 ],
 "metadata": {
  "kernelspec": {
   "display_name": "Python 3 (ipykernel)",
   "language": "python",
   "name": "python3"
  },
  "language_info": {
   "codemirror_mode": {
    "name": "ipython",
    "version": 3
   },
   "file_extension": ".py",
   "mimetype": "text/x-python",
   "name": "python",
   "nbconvert_exporter": "python",
   "pygments_lexer": "ipython3",
   "version": "3.10.12"
  }
 },
 "nbformat": 4,
 "nbformat_minor": 5
}
