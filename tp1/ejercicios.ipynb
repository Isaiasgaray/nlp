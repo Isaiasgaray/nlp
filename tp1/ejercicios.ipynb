{
 "cells": [
  {
   "cell_type": "code",
   "execution_count": 1,
   "id": "16951d73-b163-49ee-9590-c6e32bed6cbb",
   "metadata": {},
   "outputs": [],
   "source": [
    "import pandas as pd"
   ]
  },
  {
   "cell_type": "code",
   "execution_count": 2,
   "id": "9f563782-1ebc-4956-a3c4-c5c8d06216c9",
   "metadata": {},
   "outputs": [],
   "source": [
    "df_capital = pd.read_csv('datasets/lacapital.csv')\n",
    "\n",
    "df_capital.dropna(inplace=True)"
   ]
  },
  {
   "cell_type": "markdown",
   "id": "955c1432-fdc8-4886-8411-7332074f4117",
   "metadata": {},
   "source": [
    "# Limpieza y normalización de texto "
   ]
  },
  {
   "cell_type": "code",
   "execution_count": 3,
   "id": "84b67fbb-31bd-4498-a20e-6916d4b162e1",
   "metadata": {},
   "outputs": [
    {
     "name": "stderr",
     "output_type": "stream",
     "text": [
      "[nltk_data] Downloading package stopwords to /home/isaias/nltk_data...\n",
      "[nltk_data]   Package stopwords is already up-to-date!\n",
      "[nltk_data] Downloading package punkt to /home/isaias/nltk_data...\n",
      "[nltk_data]   Package punkt is already up-to-date!\n"
     ]
    }
   ],
   "source": [
    "import unicodedata\n",
    "import nltk\n",
    "from nltk.corpus import stopwords\n",
    "from nltk.tokenize import word_tokenize\n",
    "\n",
    "nltk.download('stopwords')\n",
    "nltk.download('punkt')\n",
    "\n",
    "stop_words = set(stopwords.words('spanish'))\n",
    "\n",
    "def remove_accents(input_str):\n",
    "  nfkd_form = unicodedata.normalize('NFKD', input_str)\n",
    "  return ''.join([c for c in nfkd_form if not unicodedata.combining(c)])\n",
    "\n",
    "def remove_stopwords(text):\n",
    "  word_tokens = word_tokenize(text)\n",
    "  filtered_text = [word for word in word_tokens if word.casefold() not in stop_words]\n",
    "  return \" \".join(filtered_text)\n",
    "\n",
    "for col in df_capital.columns[:-2]:\n",
    "    df_capital[col] = df_capital[col].str.lower()\n",
    "    df_capital[col] = df_capital[col].str.replace('[^\\w\\s]', '', regex=True)\n",
    "    df_capital[col] = df_capital[col].apply(remove_stopwords)\n",
    "    df_capital[col] = df_capital[col].apply(remove_accents)"
   ]
  },
  {
   "cell_type": "markdown",
   "id": "ec015b8d-62d9-432b-9fb3-0c18d8474a1a",
   "metadata": {
    "tags": []
   },
   "source": [
    "# Ejercicio 2"
   ]
  },
  {
   "cell_type": "code",
   "execution_count": 4,
   "id": "a1ad6755-6f5e-46a0-9aee-7e21e67a19be",
   "metadata": {},
   "outputs": [
    {
     "data": {
      "text/plain": [
       "categoria\n",
       "ovacion                  57\n",
       "politica                 48\n",
       "ciudad                   32\n",
       "zoom                     31\n",
       "policiales               22\n",
       "region                   18\n",
       "informacion general      17\n",
       "economia                 16\n",
       "mundial rugby 2023        8\n",
       "mundo                     6\n",
       "educacion                 4\n",
       "turismo                   4\n",
       "negocios                  2\n",
       "cristina                  1\n",
       "opinion                   1\n",
       "colon                     1\n",
       "baby etchecopar           1\n",
       "julian montoya            1\n",
       "pepin rodriguez simon     1\n",
       "Name: count, dtype: int64"
      ]
     },
     "execution_count": 4,
     "metadata": {},
     "output_type": "execute_result"
    }
   ],
   "source": [
    "df_capital['categoria'].value_counts()"
   ]
  },
  {
   "cell_type": "code",
   "execution_count": 14,
   "id": "1d7364b6-bd5f-4f82-a021-135a203134ca",
   "metadata": {},
   "outputs": [],
   "source": [
    "categorias = df_capital['categoria'].value_counts()\n",
    "categorias = categorias[categorias >= 10].index[:5]"
   ]
  },
  {
   "cell_type": "code",
   "execution_count": 15,
   "id": "5311daef-bb5f-49b3-a7e9-6d9b95906801",
   "metadata": {},
   "outputs": [],
   "source": [
    "categorias_df = list()\n",
    "\n",
    "for categoria in categorias:\n",
    "    temp_df = df_capital[df_capital['categoria'] == categoria]\n",
    "    categorias_df.append(temp_df.sample(22, random_state=1))"
   ]
  },
  {
   "cell_type": "code",
   "execution_count": 16,
   "id": "fe5b83ff-02f3-4e14-947b-02639f431386",
   "metadata": {},
   "outputs": [],
   "source": [
    "x = list()\n",
    "y = list()\n",
    "\n",
    "for df in categorias_df:\n",
    "    x += df['titulo'].tolist()\n",
    "    y += df['categoria'].tolist()"
   ]
  },
  {
   "cell_type": "code",
   "execution_count": 17,
   "id": "ebf6a078-ab6e-46ec-bd0a-a5d7cf8e1122",
   "metadata": {},
   "outputs": [],
   "source": [
    "from sklearn.model_selection import train_test_split\n",
    "from sklearn.linear_model import LogisticRegression\n",
    "from sklearn.feature_extraction.text import TfidfVectorizer\n",
    "from sklearn.metrics import accuracy_score, classification_report"
   ]
  },
  {
   "cell_type": "code",
   "execution_count": 18,
   "id": "bbff3422-f65b-49ca-8c53-d08a729dc82f",
   "metadata": {},
   "outputs": [],
   "source": [
    "x_train, x_test, y_train, y_test = \\\n",
    "    train_test_split(x, y, test_size=0.2, random_state=1)"
   ]
  },
  {
   "cell_type": "code",
   "execution_count": 19,
   "id": "67ab1e39-1920-4b19-819e-8e5ce81b558e",
   "metadata": {},
   "outputs": [
    {
     "data": {
      "text/html": [
       "<style>#sk-container-id-2 {color: black;}#sk-container-id-2 pre{padding: 0;}#sk-container-id-2 div.sk-toggleable {background-color: white;}#sk-container-id-2 label.sk-toggleable__label {cursor: pointer;display: block;width: 100%;margin-bottom: 0;padding: 0.3em;box-sizing: border-box;text-align: center;}#sk-container-id-2 label.sk-toggleable__label-arrow:before {content: \"▸\";float: left;margin-right: 0.25em;color: #696969;}#sk-container-id-2 label.sk-toggleable__label-arrow:hover:before {color: black;}#sk-container-id-2 div.sk-estimator:hover label.sk-toggleable__label-arrow:before {color: black;}#sk-container-id-2 div.sk-toggleable__content {max-height: 0;max-width: 0;overflow: hidden;text-align: left;background-color: #f0f8ff;}#sk-container-id-2 div.sk-toggleable__content pre {margin: 0.2em;color: black;border-radius: 0.25em;background-color: #f0f8ff;}#sk-container-id-2 input.sk-toggleable__control:checked~div.sk-toggleable__content {max-height: 200px;max-width: 100%;overflow: auto;}#sk-container-id-2 input.sk-toggleable__control:checked~label.sk-toggleable__label-arrow:before {content: \"▾\";}#sk-container-id-2 div.sk-estimator input.sk-toggleable__control:checked~label.sk-toggleable__label {background-color: #d4ebff;}#sk-container-id-2 div.sk-label input.sk-toggleable__control:checked~label.sk-toggleable__label {background-color: #d4ebff;}#sk-container-id-2 input.sk-hidden--visually {border: 0;clip: rect(1px 1px 1px 1px);clip: rect(1px, 1px, 1px, 1px);height: 1px;margin: -1px;overflow: hidden;padding: 0;position: absolute;width: 1px;}#sk-container-id-2 div.sk-estimator {font-family: monospace;background-color: #f0f8ff;border: 1px dotted black;border-radius: 0.25em;box-sizing: border-box;margin-bottom: 0.5em;}#sk-container-id-2 div.sk-estimator:hover {background-color: #d4ebff;}#sk-container-id-2 div.sk-parallel-item::after {content: \"\";width: 100%;border-bottom: 1px solid gray;flex-grow: 1;}#sk-container-id-2 div.sk-label:hover label.sk-toggleable__label {background-color: #d4ebff;}#sk-container-id-2 div.sk-serial::before {content: \"\";position: absolute;border-left: 1px solid gray;box-sizing: border-box;top: 0;bottom: 0;left: 50%;z-index: 0;}#sk-container-id-2 div.sk-serial {display: flex;flex-direction: column;align-items: center;background-color: white;padding-right: 0.2em;padding-left: 0.2em;position: relative;}#sk-container-id-2 div.sk-item {position: relative;z-index: 1;}#sk-container-id-2 div.sk-parallel {display: flex;align-items: stretch;justify-content: center;background-color: white;position: relative;}#sk-container-id-2 div.sk-item::before, #sk-container-id-2 div.sk-parallel-item::before {content: \"\";position: absolute;border-left: 1px solid gray;box-sizing: border-box;top: 0;bottom: 0;left: 50%;z-index: -1;}#sk-container-id-2 div.sk-parallel-item {display: flex;flex-direction: column;z-index: 1;position: relative;background-color: white;}#sk-container-id-2 div.sk-parallel-item:first-child::after {align-self: flex-end;width: 50%;}#sk-container-id-2 div.sk-parallel-item:last-child::after {align-self: flex-start;width: 50%;}#sk-container-id-2 div.sk-parallel-item:only-child::after {width: 0;}#sk-container-id-2 div.sk-dashed-wrapped {border: 1px dashed gray;margin: 0 0.4em 0.5em 0.4em;box-sizing: border-box;padding-bottom: 0.4em;background-color: white;}#sk-container-id-2 div.sk-label label {font-family: monospace;font-weight: bold;display: inline-block;line-height: 1.2em;}#sk-container-id-2 div.sk-label-container {text-align: center;}#sk-container-id-2 div.sk-container {/* jupyter's `normalize.less` sets `[hidden] { display: none; }` but bootstrap.min.css set `[hidden] { display: none !important; }` so we also need the `!important` here to be able to override the default hidden behavior on the sphinx rendered scikit-learn.org. See: https://github.com/scikit-learn/scikit-learn/issues/21755 */display: inline-block !important;position: relative;}#sk-container-id-2 div.sk-text-repr-fallback {display: none;}</style><div id=\"sk-container-id-2\" class=\"sk-top-container\"><div class=\"sk-text-repr-fallback\"><pre>LogisticRegression(max_iter=1000)</pre><b>In a Jupyter environment, please rerun this cell to show the HTML representation or trust the notebook. <br />On GitHub, the HTML representation is unable to render, please try loading this page with nbviewer.org.</b></div><div class=\"sk-container\" hidden><div class=\"sk-item\"><div class=\"sk-estimator sk-toggleable\"><input class=\"sk-toggleable__control sk-hidden--visually\" id=\"sk-estimator-id-2\" type=\"checkbox\" checked><label for=\"sk-estimator-id-2\" class=\"sk-toggleable__label sk-toggleable__label-arrow\">LogisticRegression</label><div class=\"sk-toggleable__content\"><pre>LogisticRegression(max_iter=1000)</pre></div></div></div></div></div>"
      ],
      "text/plain": [
       "LogisticRegression(max_iter=1000)"
      ]
     },
     "execution_count": 19,
     "metadata": {},
     "output_type": "execute_result"
    }
   ],
   "source": [
    "vectorizer = TfidfVectorizer()\n",
    "x_train_vectorized = vectorizer.fit_transform(x_train)\n",
    "x_test_vectorized = vectorizer.transform(x_test)\n",
    "\n",
    "modelo_LR = LogisticRegression(max_iter=1000)\n",
    "modelo_LR.fit(x_train_vectorized, y_train)"
   ]
  },
  {
   "cell_type": "code",
   "execution_count": 20,
   "id": "b25b018d-9f47-4f87-bb80-84edd91782f9",
   "metadata": {},
   "outputs": [],
   "source": [
    "y_pred_LR = modelo_LR.predict(x_test_vectorized)\n",
    "acc_LR = accuracy_score(y_test, y_pred_LR)\n",
    "report_LR = classification_report(y_test, y_pred_LR, zero_division=1)"
   ]
  },
  {
   "cell_type": "code",
   "execution_count": 21,
   "id": "465681dd-97bd-4195-aed2-955801001091",
   "metadata": {},
   "outputs": [
    {
     "name": "stdout",
     "output_type": "stream",
     "text": [
      "Precisión Regresión Logística: 0.5909090909090909\n",
      "Reporte de clasificación Regresión Logística:\n",
      "               precision    recall  f1-score   support\n",
      "\n",
      "      ciudad       1.00      0.40      0.57         5\n",
      "     ovacion       0.20      1.00      0.33         2\n",
      "  policiales       1.00      0.44      0.62         9\n",
      "    politica       0.67      0.67      0.67         3\n",
      "        zoom       1.00      1.00      1.00         3\n",
      "\n",
      "    accuracy                           0.59        22\n",
      "   macro avg       0.77      0.70      0.64        22\n",
      "weighted avg       0.88      0.59      0.64        22\n",
      "\n"
     ]
    }
   ],
   "source": [
    "print(\"Precisión Regresión Logística:\", acc_LR)\n",
    "print(\"Reporte de clasificación Regresión Logística:\\n\", report_LR)"
   ]
  },
  {
   "cell_type": "code",
   "execution_count": 22,
   "id": "16e93b9a-8586-4e58-a1eb-0270a9b26059",
   "metadata": {},
   "outputs": [
    {
     "name": "stdout",
     "output_type": "stream",
     "text": [
      "['ovacion' 'ovacion' 'politica' 'zoom']\n"
     ]
    }
   ],
   "source": [
    "print(modelo_LR.predict(vectorizer.transform([\"en pesos\", \"pesos de los pumas\",\n",
    "                                              \"pesos de los pumas con milei\",\n",
    "                                              \"pesos de los pumas con milei en un show de cine\"])))"
   ]
  },
  {
   "cell_type": "markdown",
   "id": "3d510626-dec2-4508-8df3-f019037fa096",
   "metadata": {},
   "source": [
    "# Ejercicio 3"
   ]
  },
  {
   "cell_type": "markdown",
   "id": "6ae10550-741b-4e16-aaab-5737d91c667d",
   "metadata": {},
   "source": [
    "# Ejercicio 4"
   ]
  }
 ],
 "metadata": {
  "kernelspec": {
   "display_name": "Python 3 (ipykernel)",
   "language": "python",
   "name": "python3"
  },
  "language_info": {
   "codemirror_mode": {
    "name": "ipython",
    "version": 3
   },
   "file_extension": ".py",
   "mimetype": "text/x-python",
   "name": "python",
   "nbconvert_exporter": "python",
   "pygments_lexer": "ipython3",
   "version": "3.10.12"
  }
 },
 "nbformat": 4,
 "nbformat_minor": 5
}
