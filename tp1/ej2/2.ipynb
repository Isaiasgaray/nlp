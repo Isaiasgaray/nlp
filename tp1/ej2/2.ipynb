{
 "cells": [
  {
   "cell_type": "markdown",
   "metadata": {},
   "source": [
    "# Librerias"
   ]
  },
  {
   "cell_type": "code",
   "execution_count": null,
   "metadata": {},
   "outputs": [],
   "source": [
    "import spacy\n",
    "import pandas as pd\n",
    "import numpy as np\n",
    "import matplotlib.pyplot as plt\n",
    "from sklearn.feature_extraction.text import TfidfVectorizer\n",
    "# from sklearn.metrics.pairwise import cosine_similarity\n",
    "from sklearn.model_selection import train_test_split\n",
    "from sklearn.linear_model import LogisticRegression\n",
    "from sklearn.metrics import accuracy_score, classification_report"
   ]
  },
  {
   "cell_type": "markdown",
   "metadata": {},
   "source": [
    "# Dataframe y nlp"
   ]
  },
  {
   "cell_type": "code",
   "execution_count": null,
   "metadata": {},
   "outputs": [],
   "source": [
    "nlp = spacy.load('es_core_news_lg')\n",
    "df = pd.read_csv(\"../datasets/lacapital.csv\")\n",
    "\n",
    "df.head()"
   ]
  },
  {
   "cell_type": "code",
   "execution_count": null,
   "metadata": {},
   "outputs": [],
   "source": [
    "cantidad = df[\"categoria\"].value_counts()\n",
    "mask = df['categoria'].apply(lambda x: cantidad[x] >= 10)\n",
    "df_subset = df[mask]\n",
    "print(df_subset)\n",
    "#categorias = df[\"categoria\"].value_counts()\n",
    "#categorias"
   ]
  },
  {
   "cell_type": "code",
   "execution_count": null,
   "metadata": {},
   "outputs": [],
   "source": [
    "limpio_cats = df_subset[\"categoria\"]\n",
    "limpio_cats.value_counts()"
   ]
  },
  {
   "cell_type": "code",
   "execution_count": null,
   "metadata": {},
   "outputs": [],
   "source": [
    "df_subset.info()"
   ]
  },
  {
   "cell_type": "code",
   "execution_count": null,
   "metadata": {},
   "outputs": [],
   "source": [
    "titulos = df_subset['titulo'].tolist()\n",
    "titulos"
   ]
  },
  {
   "cell_type": "code",
   "execution_count": 30,
   "metadata": {},
   "outputs": [
    {
     "data": {
      "text/plain": [
       "['La Ciudad',\n",
       " 'Ovación',\n",
       " 'Economía',\n",
       " 'Economía',\n",
       " 'Ovación',\n",
       " 'Ovación',\n",
       " 'Ovación',\n",
       " 'Ovación',\n",
       " 'Política',\n",
       " 'La Ciudad',\n",
       " 'La Ciudad',\n",
       " 'Ovación',\n",
       " 'Ovación',\n",
       " 'Ovación',\n",
       " 'Política',\n",
       " 'Información General',\n",
       " 'Ovación',\n",
       " 'Ovación',\n",
       " 'Ovación',\n",
       " 'Economía',\n",
       " 'La Región',\n",
       " 'Política',\n",
       " 'Ovación',\n",
       " 'Política',\n",
       " 'La Región',\n",
       " 'Ovación',\n",
       " 'Policiales',\n",
       " 'Zoom',\n",
       " 'Información General',\n",
       " 'Información General',\n",
       " 'La Región',\n",
       " 'La Ciudad',\n",
       " 'Información General',\n",
       " 'Ovación',\n",
       " 'Política',\n",
       " 'La Ciudad',\n",
       " 'Zoom',\n",
       " 'La Región',\n",
       " 'Zoom',\n",
       " 'Zoom',\n",
       " 'Policiales',\n",
       " 'Zoom',\n",
       " 'Economía',\n",
       " 'Policiales',\n",
       " 'La Ciudad',\n",
       " 'Zoom',\n",
       " 'Zoom',\n",
       " 'Policiales',\n",
       " 'Política',\n",
       " 'Ovación',\n",
       " 'Policiales',\n",
       " 'Ovación',\n",
       " 'Ovación',\n",
       " 'La Ciudad',\n",
       " 'Policiales',\n",
       " 'Policiales',\n",
       " 'Zoom',\n",
       " 'Ovación',\n",
       " 'La Región',\n",
       " 'Ovación',\n",
       " 'Ovación',\n",
       " 'Zoom',\n",
       " 'Policiales',\n",
       " 'Policiales',\n",
       " 'La Ciudad',\n",
       " 'La Ciudad',\n",
       " 'Política',\n",
       " 'La Ciudad',\n",
       " 'Ovación',\n",
       " 'Ovación',\n",
       " 'Ovación',\n",
       " 'La Ciudad',\n",
       " 'Ovación',\n",
       " 'Ovación',\n",
       " 'Ovación',\n",
       " 'Zoom',\n",
       " 'Policiales',\n",
       " 'Zoom',\n",
       " 'Economía',\n",
       " 'Economía',\n",
       " 'Ovación',\n",
       " 'Economía',\n",
       " 'Política',\n",
       " 'Policiales',\n",
       " 'Política',\n",
       " 'Ovación',\n",
       " 'Zoom',\n",
       " 'Política',\n",
       " 'Policiales',\n",
       " 'Zoom',\n",
       " 'Ovación',\n",
       " 'Política',\n",
       " 'Ovación',\n",
       " 'Información General',\n",
       " 'Información General',\n",
       " 'La Región',\n",
       " 'Policiales',\n",
       " 'Ovación',\n",
       " 'Economía',\n",
       " 'Información General',\n",
       " 'Economía',\n",
       " 'Información General',\n",
       " 'La Ciudad',\n",
       " 'Economía',\n",
       " 'Política',\n",
       " 'La Región',\n",
       " 'La Región',\n",
       " 'Policiales',\n",
       " 'La Región',\n",
       " 'Ovación',\n",
       " 'La Ciudad',\n",
       " 'Ovación',\n",
       " 'Zoom',\n",
       " 'La Ciudad',\n",
       " 'Política',\n",
       " 'La Ciudad',\n",
       " 'Ovación',\n",
       " 'Información General',\n",
       " 'Policiales',\n",
       " 'Política',\n",
       " 'Zoom',\n",
       " 'Información General',\n",
       " 'Policiales',\n",
       " 'La Región',\n",
       " 'Zoom',\n",
       " 'La Ciudad',\n",
       " 'La Ciudad',\n",
       " 'Información General',\n",
       " 'Política',\n",
       " 'Política',\n",
       " 'Política',\n",
       " 'Política',\n",
       " 'Política',\n",
       " 'Política',\n",
       " 'Política',\n",
       " 'La Región',\n",
       " 'Política',\n",
       " 'La Ciudad',\n",
       " 'Política',\n",
       " 'Política',\n",
       " 'Ovación',\n",
       " 'Política',\n",
       " 'Política',\n",
       " 'Política',\n",
       " 'La Región',\n",
       " 'La Ciudad',\n",
       " 'La Ciudad',\n",
       " 'La Ciudad',\n",
       " 'Zoom',\n",
       " 'Zoom',\n",
       " 'Zoom',\n",
       " 'Zoom',\n",
       " 'Economía',\n",
       " 'Ovación',\n",
       " 'Ovación',\n",
       " 'La Ciudad',\n",
       " 'Ovación',\n",
       " 'La Ciudad',\n",
       " 'La Ciudad',\n",
       " 'Policiales',\n",
       " 'La Región',\n",
       " 'La Región',\n",
       " 'Política',\n",
       " 'Política',\n",
       " 'Política',\n",
       " 'Política',\n",
       " 'Política',\n",
       " 'Información General',\n",
       " 'Ovación',\n",
       " 'Ovación',\n",
       " 'Ovación',\n",
       " 'Ovación',\n",
       " 'Ovación',\n",
       " 'Ovación',\n",
       " 'Zoom',\n",
       " 'Política',\n",
       " 'Política',\n",
       " 'Ovación',\n",
       " 'La Ciudad',\n",
       " 'Policiales',\n",
       " 'Información General',\n",
       " 'Ovación',\n",
       " 'Policiales']"
      ]
     },
     "execution_count": 30,
     "metadata": {},
     "output_type": "execute_result"
    }
   ],
   "source": [
    "categorias = df_subset['categoria'].tolist()\n",
    "categorias"
   ]
  },
  {
   "cell_type": "code",
   "execution_count": null,
   "metadata": {},
   "outputs": [],
   "source": [
    "vectorizer = TfidfVectorizer()\n",
    "tfidf_matriz_cat = vectorizer.fit_transform(categorias)\n",
    "tfidf_matriz_tit = vectorizer.fit_transform(titulos)"
   ]
  },
  {
   "cell_type": "code",
   "execution_count": null,
   "metadata": {},
   "outputs": [],
   "source": [
    "# similarity_matrix_cat = cosine_similarity(tfidf_matriz_cat[0:1], tfidf_matriz_cat)\n",
    "# most_similar_index_cat = similarity_matrix_cat.argsort()[0, -2]\n",
    "# print(f\"La frase más semejante a '{categorias[0]}' es: '{categorias[most_similar_index_cat]}'\")\n",
    "# ################################################################\n",
    "# similarity_matrix_tit = cosine_similarity(tfidf_matriz_tit[0:1], tfidf_matriz_tit)\n",
    "# most_similar_index_tit = similarity_matrix_tit.argsort()[0, -2]\n",
    "# print(f\"La frase más semejante a '{titulos[0]}' es: '{titulos[most_similar_index_tit]}'\")"
   ]
  },
  {
   "cell_type": "markdown",
   "metadata": {},
   "source": [
    "# Modelo de regresion Logistica"
   ]
  },
  {
   "cell_type": "markdown",
   "metadata": {},
   "source": [
    "La idea de esto es que por cada titulo le asigne una categoria"
   ]
  },
  {
   "cell_type": "code",
   "execution_count": null,
   "metadata": {},
   "outputs": [],
   "source": [
    "import nltk\n",
    "nltk.download('stopwords')\n",
    "from nltk.corpus import stopwords\n",
    "\n",
    "spanish_stop_words = stopwords.words('spanish')"
   ]
  },
  {
   "cell_type": "code",
   "execution_count": 31,
   "metadata": {},
   "outputs": [],
   "source": [
    "X = df_subset['titulo'].tolist()\n",
    "y= df_subset['categoria'].tolist()\n",
    "\n",
    "# División del dataset\n",
    "X_train, X_test, y_train, y_test = train_test_split(X, y, test_size=0.25, random_state=42)\n",
    "vectorizer = TfidfVectorizer(stop_words=spanish_stop_words)"
   ]
  },
  {
   "cell_type": "markdown",
   "metadata": {},
   "source": [
    "# Feature Vectorization"
   ]
  },
  {
   "cell_type": "code",
   "execution_count": 32,
   "metadata": {},
   "outputs": [
    {
     "name": "stdout",
     "output_type": "stream",
     "text": [
      "  (0, 625)\t0.5134694971414406\n",
      "  (0, 508)\t0.43976140722076346\n",
      "  (0, 397)\t0.48287787582414265\n",
      "  (0, 769)\t0.5565859657448199\n",
      "  (1, 56)\t0.33333333333333337\n",
      "  (1, 462)\t0.33333333333333337\n",
      "  (1, 313)\t0.33333333333333337\n",
      "  (1, 680)\t0.33333333333333337\n",
      "  (1, 31)\t0.33333333333333337\n",
      "  (1, 479)\t0.33333333333333337\n",
      "  (1, 478)\t0.33333333333333337\n",
      "  (1, 699)\t0.33333333333333337\n",
      "  (1, 772)\t0.33333333333333337\n",
      "  (2, 524)\t0.3524546345071069\n",
      "  (2, 292)\t0.3820505487092997\n",
      "  (2, 586)\t0.3820505487092997\n",
      "  (2, 612)\t0.3820505487092997\n",
      "  (2, 142)\t0.3820505487092997\n",
      "  (2, 678)\t0.3820505487092997\n",
      "  (2, 683)\t0.3820505487092997\n",
      "  (3, 334)\t0.34646618648264127\n",
      "  (3, 79)\t0.23993113309542863\n",
      "  (3, 7)\t0.34646618648264127\n",
      "  (3, 666)\t0.34646618648264127\n",
      "  (3, 543)\t0.34646618648264127\n",
      "  :\t:\n",
      "  (133, 701)\t0.3454872105890615\n",
      "  (134, 476)\t0.38205054870929966\n",
      "  (134, 480)\t0.38205054870929966\n",
      "  (134, 672)\t0.38205054870929966\n",
      "  (134, 291)\t0.38205054870929966\n",
      "  (134, 161)\t0.38205054870929966\n",
      "  (134, 667)\t0.38205054870929966\n",
      "  (134, 512)\t0.35245463450710685\n",
      "  (135, 130)\t0.34391243387676956\n",
      "  (135, 514)\t0.34391243387676956\n",
      "  (135, 528)\t0.34391243387676956\n",
      "  (135, 511)\t0.34391243387676956\n",
      "  (135, 297)\t0.34391243387676956\n",
      "  (135, 561)\t0.34391243387676956\n",
      "  (135, 438)\t0.31727092552016495\n",
      "  (135, 87)\t0.31727092552016495\n",
      "  (135, 581)\t0.29836847452251986\n",
      "  (136, 343)\t0.36863184815225275\n",
      "  (136, 644)\t0.36863184815225275\n",
      "  (136, 389)\t0.36863184815225275\n",
      "  (136, 747)\t0.36863184815225275\n",
      "  (136, 325)\t0.36863184815225275\n",
      "  (136, 509)\t0.36863184815225275\n",
      "  (136, 468)\t0.34007542652959677\n",
      "  (136, 626)\t0.2627014797024175\n"
     ]
    }
   ],
   "source": [
    "# Vectorización de los textos con eliminación de palabras vacías\n",
    "vectorizer = TfidfVectorizer(stop_words=spanish_stop_words)\n",
    "X_train_vectorized = vectorizer.fit_transform(X_train)\n",
    "X_test_vectorized = vectorizer.transform(X_test)\n",
    "\n",
    "\n",
    "print(X_train_vectorized)\n"
   ]
  },
  {
   "cell_type": "markdown",
   "metadata": {},
   "source": [
    "# Logistic regression"
   ]
  },
  {
   "cell_type": "code",
   "execution_count": 33,
   "metadata": {},
   "outputs": [
    {
     "data": {
      "text/html": [
       "<style>#sk-container-id-6 {color: black;}#sk-container-id-6 pre{padding: 0;}#sk-container-id-6 div.sk-toggleable {background-color: white;}#sk-container-id-6 label.sk-toggleable__label {cursor: pointer;display: block;width: 100%;margin-bottom: 0;padding: 0.3em;box-sizing: border-box;text-align: center;}#sk-container-id-6 label.sk-toggleable__label-arrow:before {content: \"▸\";float: left;margin-right: 0.25em;color: #696969;}#sk-container-id-6 label.sk-toggleable__label-arrow:hover:before {color: black;}#sk-container-id-6 div.sk-estimator:hover label.sk-toggleable__label-arrow:before {color: black;}#sk-container-id-6 div.sk-toggleable__content {max-height: 0;max-width: 0;overflow: hidden;text-align: left;background-color: #f0f8ff;}#sk-container-id-6 div.sk-toggleable__content pre {margin: 0.2em;color: black;border-radius: 0.25em;background-color: #f0f8ff;}#sk-container-id-6 input.sk-toggleable__control:checked~div.sk-toggleable__content {max-height: 200px;max-width: 100%;overflow: auto;}#sk-container-id-6 input.sk-toggleable__control:checked~label.sk-toggleable__label-arrow:before {content: \"▾\";}#sk-container-id-6 div.sk-estimator input.sk-toggleable__control:checked~label.sk-toggleable__label {background-color: #d4ebff;}#sk-container-id-6 div.sk-label input.sk-toggleable__control:checked~label.sk-toggleable__label {background-color: #d4ebff;}#sk-container-id-6 input.sk-hidden--visually {border: 0;clip: rect(1px 1px 1px 1px);clip: rect(1px, 1px, 1px, 1px);height: 1px;margin: -1px;overflow: hidden;padding: 0;position: absolute;width: 1px;}#sk-container-id-6 div.sk-estimator {font-family: monospace;background-color: #f0f8ff;border: 1px dotted black;border-radius: 0.25em;box-sizing: border-box;margin-bottom: 0.5em;}#sk-container-id-6 div.sk-estimator:hover {background-color: #d4ebff;}#sk-container-id-6 div.sk-parallel-item::after {content: \"\";width: 100%;border-bottom: 1px solid gray;flex-grow: 1;}#sk-container-id-6 div.sk-label:hover label.sk-toggleable__label {background-color: #d4ebff;}#sk-container-id-6 div.sk-serial::before {content: \"\";position: absolute;border-left: 1px solid gray;box-sizing: border-box;top: 0;bottom: 0;left: 50%;z-index: 0;}#sk-container-id-6 div.sk-serial {display: flex;flex-direction: column;align-items: center;background-color: white;padding-right: 0.2em;padding-left: 0.2em;position: relative;}#sk-container-id-6 div.sk-item {position: relative;z-index: 1;}#sk-container-id-6 div.sk-parallel {display: flex;align-items: stretch;justify-content: center;background-color: white;position: relative;}#sk-container-id-6 div.sk-item::before, #sk-container-id-6 div.sk-parallel-item::before {content: \"\";position: absolute;border-left: 1px solid gray;box-sizing: border-box;top: 0;bottom: 0;left: 50%;z-index: -1;}#sk-container-id-6 div.sk-parallel-item {display: flex;flex-direction: column;z-index: 1;position: relative;background-color: white;}#sk-container-id-6 div.sk-parallel-item:first-child::after {align-self: flex-end;width: 50%;}#sk-container-id-6 div.sk-parallel-item:last-child::after {align-self: flex-start;width: 50%;}#sk-container-id-6 div.sk-parallel-item:only-child::after {width: 0;}#sk-container-id-6 div.sk-dashed-wrapped {border: 1px dashed gray;margin: 0 0.4em 0.5em 0.4em;box-sizing: border-box;padding-bottom: 0.4em;background-color: white;}#sk-container-id-6 div.sk-label label {font-family: monospace;font-weight: bold;display: inline-block;line-height: 1.2em;}#sk-container-id-6 div.sk-label-container {text-align: center;}#sk-container-id-6 div.sk-container {/* jupyter's `normalize.less` sets `[hidden] { display: none; }` but bootstrap.min.css set `[hidden] { display: none !important; }` so we also need the `!important` here to be able to override the default hidden behavior on the sphinx rendered scikit-learn.org. See: https://github.com/scikit-learn/scikit-learn/issues/21755 */display: inline-block !important;position: relative;}#sk-container-id-6 div.sk-text-repr-fallback {display: none;}</style><div id=\"sk-container-id-6\" class=\"sk-top-container\"><div class=\"sk-text-repr-fallback\"><pre>LogisticRegression(class_weight=&#x27;balanced&#x27;, max_iter=1000, random_state=42,\n",
       "                   solver=&#x27;liblinear&#x27;)</pre><b>In a Jupyter environment, please rerun this cell to show the HTML representation or trust the notebook. <br />On GitHub, the HTML representation is unable to render, please try loading this page with nbviewer.org.</b></div><div class=\"sk-container\" hidden><div class=\"sk-item\"><div class=\"sk-estimator sk-toggleable\"><input class=\"sk-toggleable__control sk-hidden--visually\" id=\"sk-estimator-id-6\" type=\"checkbox\" checked><label for=\"sk-estimator-id-6\" class=\"sk-toggleable__label sk-toggleable__label-arrow\">LogisticRegression</label><div class=\"sk-toggleable__content\"><pre>LogisticRegression(class_weight=&#x27;balanced&#x27;, max_iter=1000, random_state=42,\n",
       "                   solver=&#x27;liblinear&#x27;)</pre></div></div></div></div></div>"
      ],
      "text/plain": [
       "LogisticRegression(class_weight='balanced', max_iter=1000, random_state=42,\n",
       "                   solver='liblinear')"
      ]
     },
     "execution_count": 33,
     "metadata": {},
     "output_type": "execute_result"
    }
   ],
   "source": [
    "modelo_LR = LogisticRegression(random_state=42 ,max_iter=1000, class_weight=\"balanced\", fit_intercept=True, solver=\"liblinear\")\n",
    "modelo_LR.fit(X_train_vectorized, y_train)"
   ]
  },
  {
   "cell_type": "markdown",
   "metadata": {},
   "source": [
    "# Predecir resultados del set de prueba"
   ]
  },
  {
   "cell_type": "code",
   "execution_count": 36,
   "metadata": {},
   "outputs": [
    {
     "name": "stdout",
     "output_type": "stream",
     "text": [
      "['Política']\n"
     ]
    }
   ],
   "source": [
    "y_pred = modelo_LR.predict(X_test_vectorized)\n",
    "#titulo,texto,categoria,url,fecha\n",
    "print(modelo_LR.predict(vectorizer.transform([\"Massa\"])))"
   ]
  },
  {
   "cell_type": "code",
   "execution_count": null,
   "metadata": {},
   "outputs": [],
   "source": [
    "from sklearn.metrics import confusion_matrix, accuracy_score\n",
    "cm = confusion_matrix(y_test, y_pred)\n",
    "print(cm)\n",
    "accuracy_score(y_test, y_pred)\n"
   ]
  },
  {
   "cell_type": "code",
   "execution_count": 37,
   "metadata": {},
   "outputs": [
    {
     "name": "stdout",
     "output_type": "stream",
     "text": [
      "Reporte de clasificación Regresión Logística:\n",
      "                      precision    recall  f1-score   support\n",
      "\n",
      "           Economía       0.67      0.67      0.67         3\n",
      "Información General       0.00      0.00      1.00         3\n",
      "          La Ciudad       0.43      0.27      0.33        11\n",
      "          La Región       1.00      0.00      0.00         3\n",
      "            Ovación       0.45      0.82      0.58        11\n",
      "         Policiales       0.00      0.00      1.00         1\n",
      "           Política       0.60      0.43      0.50         7\n",
      "               Zoom       0.33      0.29      0.31         7\n",
      "\n",
      "           accuracy                           0.41        46\n",
      "          macro avg       0.43      0.31      0.55        46\n",
      "       weighted avg       0.46      0.41      0.47        46\n",
      "\n"
     ]
    }
   ],
   "source": [
    "acc_LR = accuracy_score(y_test, y_pred)\n",
    "report_LR = classification_report(y_test, y_pred, zero_division=1)\n",
    "print(\"Reporte de clasificación Regresión Logística:\\n\", report_LR)"
   ]
  }
 ],
 "metadata": {
  "kernelspec": {
   "display_name": "Python 3",
   "language": "python",
   "name": "python3"
  },
  "language_info": {
   "codemirror_mode": {
    "name": "ipython",
    "version": 3
   },
   "file_extension": ".py",
   "mimetype": "text/x-python",
   "name": "python",
   "nbconvert_exporter": "python",
   "pygments_lexer": "ipython3",
   "version": "3.11.4"
  }
 },
 "nbformat": 4,
 "nbformat_minor": 2
}
