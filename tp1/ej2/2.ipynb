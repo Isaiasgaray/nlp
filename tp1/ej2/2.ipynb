{
 "cells": [
  {
   "cell_type": "markdown",
   "metadata": {},
   "source": [
    "# Librerias"
   ]
  },
  {
   "cell_type": "code",
   "execution_count": null,
   "metadata": {},
   "outputs": [],
   "source": [
    "import spacy\n",
    "import pandas as pd\n",
    "import numpy as np\n",
    "from sklearn.feature_extraction.text import TfidfVectorizer\n",
    "from sklearn.metrics.pairwise import cosine_similarity\n",
    "from sklearn.model_selection import train_test_split\n",
    "from sklearn.linear_model import LogisticRegression\n",
    "from sklearn.metrics import accuracy_score, classification_report"
   ]
  },
  {
   "cell_type": "markdown",
   "metadata": {},
   "source": [
    "# Dataframe y nlp"
   ]
  },
  {
   "cell_type": "code",
   "execution_count": null,
   "metadata": {},
   "outputs": [],
   "source": [
    "\n",
    "nlp = spacy.load('es_core_news_lg')\n",
    "df = pd.read_csv(\"../datasets/lacapital.csv\")\n",
    "\n",
    "df.head()"
   ]
  },
  {
   "cell_type": "code",
   "execution_count": null,
   "metadata": {},
   "outputs": [],
   "source": [
    "\n",
    "categorias = df[\"categoria\"].tolist()\n",
    "categorias\n",
    "\n"
   ]
  },
  {
   "cell_type": "code",
   "execution_count": null,
   "metadata": {},
   "outputs": [],
   "source": [
    "titulos = df['titulo'].tolist()\n",
    "titulos"
   ]
  },
  {
   "cell_type": "code",
   "execution_count": null,
   "metadata": {},
   "outputs": [],
   "source": [
    "vectorizer = TfidfVectorizer()\n",
    "tfidf_matriz_cat = vectorizer.fit_transform(categorias)\n",
    "tfidf_matriz_tit = vectorizer.fit_transform(titulos)"
   ]
  },
  {
   "cell_type": "code",
   "execution_count": null,
   "metadata": {},
   "outputs": [],
   "source": [
    "similarity_matrix_cat = cosine_similarity(tfidf_matriz_cat[0:1], tfidf_matriz_cat)\n",
    "most_similar_index_cat = similarity_matrix_cat.argsort()[0, -2]\n",
    "print(f\"La frase más semejante a '{categorias[0]}' es: '{categorias[most_similar_index_cat]}'\")\n",
    "################################################################\n",
    "similarity_matrix_tit = cosine_similarity(tfidf_matriz_tit[0:1], tfidf_matriz_tit)\n",
    "most_similar_index_tit = similarity_matrix_tit.argsort()[0, -2]\n",
    "print(f\"La frase más semejante a '{titulos[0]}' es: '{titulos[most_similar_index_tit]}'\")"
   ]
  },
  {
   "cell_type": "markdown",
   "metadata": {},
   "source": [
    "# Modelo de regresion Logistica"
   ]
  },
  {
   "cell_type": "markdown",
   "metadata": {},
   "source": [
    "La idea de esto es que por cada titulo le asigne una categoria por lo que entiendo"
   ]
  },
  {
   "cell_type": "code",
   "execution_count": null,
   "metadata": {},
   "outputs": [],
   "source": [
    "import nltk\n",
    "nltk.download('stopwords')\n",
    "from nltk.corpus import stopwords\n",
    "\n",
    "spanish_stop_words = stopwords.words('spanish')"
   ]
  },
  {
   "cell_type": "code",
   "execution_count": 36,
   "metadata": {},
   "outputs": [
    {
     "name": "stdout",
     "output_type": "stream",
     "text": [
      "Precisión Regresión Logística: 0.2962962962962963\n"
     ]
    }
   ],
   "source": [
    "X = df['titulo'].tolist()\n",
    "y= df['categoria'].tolist()\n",
    "\n",
    "# División del dataset\n",
    "X_train, X_test, y_train, y_test = train_test_split(X, y, test_size=0.25, random_state=42)\n",
    "\n",
    "# Vectorización de los textos con eliminación de palabras vacías\n",
    "vectorizer = TfidfVectorizer(stop_words=spanish_stop_words)\n",
    "X_train_vectorized = vectorizer.fit_transform(X_train)\n",
    "X_test_vectorized = vectorizer.transform(X_test)\n",
    "\n",
    "# Creación y entrenamiento del modelo de Regresión Logística\n",
    "modelo_LR = LogisticRegression(max_iter=1000)\n",
    "modelo_LR.fit(X_train_vectorized, y_train)\n",
    "\n",
    "# Evaluación del modelo de Regresión Logística\n",
    "y_pred_LR = modelo_LR.predict(X_test_vectorized)\n",
    "acc_LR = accuracy_score(y_test, y_pred_LR)\n",
    "report_LR = classification_report(y_test, y_pred_LR, zero_division=1)\n",
    "\n",
    "print(\"Precisión Regresión Logística:\", acc_LR)\n",
    "#print(\"Reporte de clasificación Regresión Logística:\\n\", report_LR)"
   ]
  }
 ],
 "metadata": {
  "kernelspec": {
   "display_name": "Python 3",
   "language": "python",
   "name": "python3"
  },
  "language_info": {
   "codemirror_mode": {
    "name": "ipython",
    "version": 3
   },
   "file_extension": ".py",
   "mimetype": "text/x-python",
   "name": "python",
   "nbconvert_exporter": "python",
   "pygments_lexer": "ipython3",
   "version": "3.11.4"
  }
 },
 "nbformat": 4,
 "nbformat_minor": 2
}
