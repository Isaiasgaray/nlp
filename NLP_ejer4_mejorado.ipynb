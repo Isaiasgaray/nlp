{
  "nbformat": 4,
  "nbformat_minor": 0,
  "metadata": {
    "colab": {
      "provenance": []
    },
    "kernelspec": {
      "name": "python3",
      "display_name": "Python 3"
    },
    "language_info": {
      "name": "python"
    }
  },
  "cells": [
    {
      "cell_type": "code",
      "source": [
        "import pandas as pd"
      ],
      "metadata": {
        "id": "voI5j0ZU0djE"
      },
      "execution_count": 4,
      "outputs": []
    },
    {
      "cell_type": "code",
      "source": [
        "df_4 = pd.read_csv('/content/lacapital.csv')\n",
        "df_4"
      ],
      "metadata": {
        "id": "l5ZnLGiEz8Qj"
      },
      "execution_count": null,
      "outputs": []
    },
    {
      "cell_type": "code",
      "source": [
        "ovacion = df_4[df_4['categoria'] == \"Ovación\"][:22]\n",
        "ovacion[\"titulo\"]"
      ],
      "metadata": {
        "id": "6JI9QQa4z8N8"
      },
      "execution_count": null,
      "outputs": []
    },
    {
      "cell_type": "code",
      "source": [
        "!pip install sentence-transformers\n"
      ],
      "metadata": {
        "colab": {
          "base_uri": "https://localhost:8080/"
        },
        "id": "hAkYRTY5PKNr",
        "outputId": "9bf32ac4-8f66-474f-b651-67117d086501"
      },
      "execution_count": 12,
      "outputs": [
        {
          "output_type": "stream",
          "name": "stdout",
          "text": [
            "Requirement already satisfied: sentence-transformers in /usr/local/lib/python3.10/dist-packages (2.2.2)\n",
            "Requirement already satisfied: transformers<5.0.0,>=4.6.0 in /usr/local/lib/python3.10/dist-packages (from sentence-transformers) (4.34.1)\n",
            "Requirement already satisfied: tqdm in /usr/local/lib/python3.10/dist-packages (from sentence-transformers) (4.66.1)\n",
            "Requirement already satisfied: torch>=1.6.0 in /usr/local/lib/python3.10/dist-packages (from sentence-transformers) (2.1.0+cu118)\n",
            "Requirement already satisfied: torchvision in /usr/local/lib/python3.10/dist-packages (from sentence-transformers) (0.16.0+cu118)\n",
            "Requirement already satisfied: numpy in /usr/local/lib/python3.10/dist-packages (from sentence-transformers) (1.23.5)\n",
            "Requirement already satisfied: scikit-learn in /usr/local/lib/python3.10/dist-packages (from sentence-transformers) (1.2.2)\n",
            "Requirement already satisfied: scipy in /usr/local/lib/python3.10/dist-packages (from sentence-transformers) (1.11.3)\n",
            "Requirement already satisfied: nltk in /usr/local/lib/python3.10/dist-packages (from sentence-transformers) (3.8.1)\n",
            "Requirement already satisfied: sentencepiece in /usr/local/lib/python3.10/dist-packages (from sentence-transformers) (0.1.99)\n",
            "Requirement already satisfied: huggingface-hub>=0.4.0 in /usr/local/lib/python3.10/dist-packages (from sentence-transformers) (0.17.3)\n",
            "Requirement already satisfied: filelock in /usr/local/lib/python3.10/dist-packages (from huggingface-hub>=0.4.0->sentence-transformers) (3.12.4)\n",
            "Requirement already satisfied: fsspec in /usr/local/lib/python3.10/dist-packages (from huggingface-hub>=0.4.0->sentence-transformers) (2023.6.0)\n",
            "Requirement already satisfied: requests in /usr/local/lib/python3.10/dist-packages (from huggingface-hub>=0.4.0->sentence-transformers) (2.31.0)\n",
            "Requirement already satisfied: pyyaml>=5.1 in /usr/local/lib/python3.10/dist-packages (from huggingface-hub>=0.4.0->sentence-transformers) (6.0.1)\n",
            "Requirement already satisfied: typing-extensions>=3.7.4.3 in /usr/local/lib/python3.10/dist-packages (from huggingface-hub>=0.4.0->sentence-transformers) (4.5.0)\n",
            "Requirement already satisfied: packaging>=20.9 in /usr/local/lib/python3.10/dist-packages (from huggingface-hub>=0.4.0->sentence-transformers) (23.2)\n",
            "Requirement already satisfied: sympy in /usr/local/lib/python3.10/dist-packages (from torch>=1.6.0->sentence-transformers) (1.12)\n",
            "Requirement already satisfied: networkx in /usr/local/lib/python3.10/dist-packages (from torch>=1.6.0->sentence-transformers) (3.2)\n",
            "Requirement already satisfied: jinja2 in /usr/local/lib/python3.10/dist-packages (from torch>=1.6.0->sentence-transformers) (3.1.2)\n",
            "Requirement already satisfied: triton==2.1.0 in /usr/local/lib/python3.10/dist-packages (from torch>=1.6.0->sentence-transformers) (2.1.0)\n",
            "Requirement already satisfied: regex!=2019.12.17 in /usr/local/lib/python3.10/dist-packages (from transformers<5.0.0,>=4.6.0->sentence-transformers) (2023.6.3)\n",
            "Requirement already satisfied: tokenizers<0.15,>=0.14 in /usr/local/lib/python3.10/dist-packages (from transformers<5.0.0,>=4.6.0->sentence-transformers) (0.14.1)\n",
            "Requirement already satisfied: safetensors>=0.3.1 in /usr/local/lib/python3.10/dist-packages (from transformers<5.0.0,>=4.6.0->sentence-transformers) (0.4.0)\n",
            "Requirement already satisfied: click in /usr/local/lib/python3.10/dist-packages (from nltk->sentence-transformers) (8.1.7)\n",
            "Requirement already satisfied: joblib in /usr/local/lib/python3.10/dist-packages (from nltk->sentence-transformers) (1.3.2)\n",
            "Requirement already satisfied: threadpoolctl>=2.0.0 in /usr/local/lib/python3.10/dist-packages (from scikit-learn->sentence-transformers) (3.2.0)\n",
            "Requirement already satisfied: pillow!=8.3.*,>=5.3.0 in /usr/local/lib/python3.10/dist-packages (from torchvision->sentence-transformers) (9.4.0)\n",
            "Requirement already satisfied: MarkupSafe>=2.0 in /usr/local/lib/python3.10/dist-packages (from jinja2->torch>=1.6.0->sentence-transformers) (2.1.3)\n",
            "Requirement already satisfied: charset-normalizer<4,>=2 in /usr/local/lib/python3.10/dist-packages (from requests->huggingface-hub>=0.4.0->sentence-transformers) (3.3.1)\n",
            "Requirement already satisfied: idna<4,>=2.5 in /usr/local/lib/python3.10/dist-packages (from requests->huggingface-hub>=0.4.0->sentence-transformers) (3.4)\n",
            "Requirement already satisfied: urllib3<3,>=1.21.1 in /usr/local/lib/python3.10/dist-packages (from requests->huggingface-hub>=0.4.0->sentence-transformers) (2.0.7)\n",
            "Requirement already satisfied: certifi>=2017.4.17 in /usr/local/lib/python3.10/dist-packages (from requests->huggingface-hub>=0.4.0->sentence-transformers) (2023.7.22)\n",
            "Requirement already satisfied: mpmath>=0.19 in /usr/local/lib/python3.10/dist-packages (from sympy->torch>=1.6.0->sentence-transformers) (1.3.0)\n"
          ]
        }
      ]
    },
    {
      "cell_type": "code",
      "source": [],
      "metadata": {
        "id": "5E17JyujQjQr"
      },
      "execution_count": null,
      "outputs": []
    },
    {
      "cell_type": "code",
      "source": [
        "from sentence_transformers import SentenceTransformer, util\n",
        "from prettytable import PrettyTable\n",
        "# Cargamos el modelo preentrenado multilingüe\n",
        "modelo = SentenceTransformer('distiluse-base-multilingual-cased-v1')\n",
        "# Definimos una lista de titulos_ovacion\n",
        "titulos_ovacion = []\n",
        "for ii in ovacion.titulo:\n",
        "  titulos_ovacion.append(ii)\n",
        "titulos_ovacion\n",
        "# Codificamos las titulos_ovacion\n",
        "embeddings = modelo.encode(titulos_ovacion, convert_to_tensor=True)\n",
        "# Calculamos las puntuaciones de similitud\n",
        "puntuaciones_coseno = util.cos_sim(embeddings, embeddings)\n",
        "# Encontramos las puntuaciones de similitud más altas\n",
        "pares = []\n",
        "for i in range(len(puntuaciones_coseno)-1):\n",
        "  for j in range(i+1, len(puntuaciones_coseno)):\n",
        "    pares.append({'index': [i, j], 'score': puntuaciones_coseno[i][j]})\n",
        "# Ordenamos las puntuaciones en orden decreciente\n",
        "pares = sorted(pares, key=lambda x: x['score'], reverse=True)\n",
        "# Creamos una tabla para mostrar los resultados\n",
        "tabla = PrettyTable()\n",
        "tabla.field_names = [\"Oración 1\", \"Oración 2\", \"Puntuación de Similitud\"]\n",
        "# Añadimos las filas a la tabla\n",
        "for par in pares[0:30]:\n",
        "  i, j = par['index']\n",
        "  tabla.add_row([titulos_ovacion[i], titulos_ovacion[j], f\"{par['score']:.4f}\"])\n",
        "# Mostramos la tabla\n",
        "print(tabla)\n"
      ],
      "metadata": {
        "colab": {
          "base_uri": "https://localhost:8080/"
        },
        "id": "JzAM5XvbPKLD",
        "outputId": "d11bf5cc-153d-41fb-8d77-41e04e92e7ba"
      },
      "execution_count": 11,
      "outputs": [
        {
          "output_type": "stream",
          "name": "stdout",
          "text": [
            "+---------------------------------------------------------------------------------------+-----------------------------------------------------------------------------------------------------+-------------------------+\n",
            "|                                       Oración 1                                       |                                              Oración 2                                              | Puntuación de Similitud |\n",
            "+---------------------------------------------------------------------------------------+-----------------------------------------------------------------------------------------------------+-------------------------+\n",
            "|                Newell's: las variantes lo enderezaron y venció a Tigre                |                        Newell's va a Tigre a tratar de reafirmar su reacción                        |          0.7713         |\n",
            "|                   Newell's y un triunfo que lo catapulta a las copas                  |                           Newell's consiguió otro triunfazo en rodeo ajeno                          |          0.6890         |\n",
            "|                Newell's: las variantes lo enderezaron y venció a Tigre                |                   Newell's le ganó a Tigre en el final con goles de Martino y May                   |          0.6881         |\n",
            "|            Newell's le ganó a Tigre en el final con goles de Martino y May            |                        Newell's va a Tigre a tratar de reafirmar su reacción                        |          0.6789         |\n",
            "|                   Méndez fue el destacado en el triunfo de Newell's                   |                   Newell's le ganó a Tigre en el final con goles de Martino y May                   |          0.6569         |\n",
            "|                Newell's: las variantes lo enderezaron y venció a Tigre                |                          Newell's y un triunfo que lo catapulta a las copas                         |          0.6315         |\n",
            "|                   Newell's y un triunfo que lo catapulta a las copas                  |                   Newell's le ganó a Tigre en el final con goles de Martino y May                   |          0.6287         |\n",
            "|                   Newell's y un triunfo que lo catapulta a las copas                  |                        Newell's va a Tigre a tratar de reafirmar su reacción                        |          0.6261         |\n",
            "|                Newell's: las variantes lo enderezaron y venció a Tigre                |                     Tigre-Newell's: antecedente muy cercano en la misma estación                    |          0.6197         |\n",
            "|                Newell's: las variantes lo enderezaron y venció a Tigre                |                           Newell's consiguió otro triunfazo en rodeo ajeno                          |          0.6041         |\n",
            "|                    Newell's consiguió otro triunfazo en rodeo ajeno                   |                   Newell's le ganó a Tigre en el final con goles de Martino y May                   |          0.5926         |\n",
            "|              Tigre-Newell's: antecedente muy cercano en la misma estación             |                        Newell's va a Tigre a tratar de reafirmar su reacción                        |          0.5883         |\n",
            "|                    Newell's consiguió otro triunfazo en rodeo ajeno                   |                        Newell's va a Tigre a tratar de reafirmar su reacción                        |          0.5821         |\n",
            "|                   Méndez fue el destacado en el triunfo de Newell's                   |                           Newell's consiguió otro triunfazo en rodeo ajeno                          |          0.5791         |\n",
            "|                   Newell's y un triunfo que lo catapulta a las copas                  |                          Méndez fue el destacado en el triunfo de Newell's                          |          0.5775         |\n",
            "| Verstappen tenía la pole con el auto decorado con diseño rosarino pero se la quitaron |               Quién es el rosarino que le decoró el auto al múltiple campeón de la F-1              |          0.5623         |\n",
            "|       Copa Santa Fe: Central al final debió ganarlo en la definición por penales      |                            Central: ni al top 4 ni a la Copa Libertadores                           |          0.5573         |\n",
            "|                   Newell's y un triunfo que lo catapulta a las copas                  |              Copa Santa Fe: Central al final debió ganarlo en la definición por penales             |          0.4922         |\n",
            "|                Newell's: las variantes lo enderezaron y venció a Tigre                |                          Méndez fue el destacado en el triunfo de Newell's                          |          0.4913         |\n",
            "|               Central busca el mejor envión final para coparse de verdad              |                            Central: ni al top 4 ni a la Copa Libertadores                           |          0.4668         |\n",
            "|            Newell's le ganó a Tigre en el final con goles de Martino y May            |                     Tigre-Newell's: antecedente muy cercano en la misma estación                    |          0.4565         |\n",
            "|                   Méndez fue el destacado en el triunfo de Newell's                   |                        Newell's va a Tigre a tratar de reafirmar su reacción                        |          0.4527         |\n",
            "|       Copa Santa Fe: Central al final debió ganarlo en la definición por penales      |                      Central busca el mejor envión final para coparse de verdad                     |          0.4511         |\n",
            "|       Copa Santa Fe: Central al final debió ganarlo en la definición por penales      | Las cábalas no se alteran: Central cambió la camiseta rosa por la tradicional y conservó el invicto |          0.4186         |\n",
            "|                   Provincial debuta este sábado en la Liga Argentina                  |            Escaleras al cielo: se cumple un aniversario del debut en primera de Maradona            |          0.4158         |\n",
            "|       Copa Santa Fe: Central al final debió ganarlo en la definición por penales      |             Mal momento para un campeón: Papu Gómez será sancionado por doping positivo             |          0.4037         |\n",
            "|                Newell's: las variantes lo enderezaron y venció a Tigre                | Las cábalas no se alteran: Central cambió la camiseta rosa por la tradicional y conservó el invicto |          0.4022         |\n",
            "|       Copa Santa Fe: Central al final debió ganarlo en la definición por penales      |                           Newell's consiguió otro triunfazo en rodeo ajeno                          |          0.3839         |\n",
            "|       Copa Santa Fe: Central al final debió ganarlo en la definición por penales      |                          Méndez fue el destacado en el triunfo de Newell's                          |          0.3826         |\n",
            "|       Copa Santa Fe: Central al final debió ganarlo en la definición por penales      |                   Newell's le ganó a Tigre en el final con goles de Martino y May                   |          0.3813         |\n",
            "+---------------------------------------------------------------------------------------+-----------------------------------------------------------------------------------------------------+-------------------------+\n"
          ]
        }
      ]
    },
    {
      "cell_type": "code",
      "source": [],
      "metadata": {
        "id": "_MmFXCq7PKIX"
      },
      "execution_count": null,
      "outputs": []
    },
    {
      "cell_type": "code",
      "source": [],
      "metadata": {
        "id": "eWrZjSyNPKF0"
      },
      "execution_count": null,
      "outputs": []
    },
    {
      "cell_type": "code",
      "source": [],
      "metadata": {
        "id": "NlBBLRwYPKCv"
      },
      "execution_count": null,
      "outputs": []
    },
    {
      "cell_type": "code",
      "source": [],
      "metadata": {
        "id": "xIPRoYRaPJ-9"
      },
      "execution_count": null,
      "outputs": []
    },
    {
      "cell_type": "code",
      "source": [],
      "metadata": {
        "id": "c7qdoXlTPJ6n"
      },
      "execution_count": null,
      "outputs": []
    }
  ]
}